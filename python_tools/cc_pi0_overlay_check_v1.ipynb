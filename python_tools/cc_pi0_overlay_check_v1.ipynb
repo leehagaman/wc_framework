{
 "cells": [
  {
   "cell_type": "code",
   "execution_count": 1,
   "id": "72de6cf2-55f8-43bb-8a35-fe7aaccf4e25",
   "metadata": {},
   "outputs": [],
   "source": [
    "import uproot3 as uproot\n",
    "import numpy as np\n",
    "import pandas as pd\n",
    "import matplotlib.pyplot as plt\n",
    "from tqdm.notebook import tqdm\n"
   ]
  },
  {
   "cell_type": "code",
   "execution_count": 2,
   "id": "d7ee01a6-36cb-4dcd-b766-3790404f3d7e",
   "metadata": {},
   "outputs": [],
   "source": [
    "#f = uproot.open(\"/data1/hagaman/xin_files/processed_checkout_rootfiles/checkout_prodgenie_nc_pi0_overlay_run1_PF.root\")[\"wcpselection\"]\n",
    "#f[\"T_PFeval\"].items()"
   ]
  },
  {
   "cell_type": "code",
   "execution_count": 3,
   "id": "b27e45e6-fb8c-4a5a-a6c9-e081da22b73f",
   "metadata": {},
   "outputs": [],
   "source": [
    "#f = uproot.open(\"/data1/hagaman/xin_files/processed_checkout_rootfiles/checkout_prodgenie_cc_pi0_overlay_run1_PF.root\")[\"wcpselection\"]\n",
    "f = uproot.open(\"/data1/hagaman/xin_files/processed_checkout_rootfiles/checkout_prodgenie_nc_pi0_overlay_run1_PF.root\")[\"wcpselection\"]\n",
    "#f = uproot.open(\"/data1/hagaman/xin_files/processed_checkout_rootfiles/checkout_prodgenie_bnb_nu_overlay_run1_PF.root\")[\"wcpselection\"]\n",
    "eval_df = f[\"T_eval\"].pandas.df([\"run\", \"subrun\", \"event\", \"match_isFC\", \"truth_isCC\", \"truth_nuEnergy\"], flatten=False)\n",
    "pf_eval_df = f[\"T_PFeval\"].pandas.df([\"truth_pdg\", \"truth_mother\", \"truth_startMomentum\", \"truth_startXYZT\", \n",
    "                                      \"reco_showerKE\", \"truth_NprimPio\", \"truth_vtxX\", \"truth_vtxY\", \"truth_vtxZ\"], flatten=False)\n",
    "bdt_df = f[\"T_BDTvars\"].pandas.df([\"nc_delta_score\"], flatten=False)\n",
    "kine_df = f[\"T_KINEvars\"].pandas.df([\"kine_reco_Enu\", \"kine_energy_particle\", \"kine_particle_type\"], flatten=False)\n",
    "\n",
    "cc_pi0_df = pd.concat([eval_df, pf_eval_df, bdt_df, kine_df], axis=1, sort=False)\n",
    "#cc_pi0_df = pd.concat([eval_df, pf_eval_df, bdt_df, kine_df], axis=1, sort=False).query(\"truth_isCC==1\")\n",
    "\n",
    "\n",
    "del f\n",
    "del eval_df\n",
    "del pf_eval_df\n",
    "del bdt_df\n",
    "del kine_df\n"
   ]
  },
  {
   "cell_type": "code",
   "execution_count": 24,
   "id": "47c75e64-af37-4cd1-909a-cc61206b97ce",
   "metadata": {},
   "outputs": [
    {
     "data": {
      "text/plain": [
       "48005"
      ]
     },
     "execution_count": 24,
     "metadata": {},
     "output_type": "execute_result"
    }
   ],
   "source": [
    "cc_pi0_df.shape[0]"
   ]
  },
  {
   "cell_type": "code",
   "execution_count": 25,
   "id": "f5ae0561-fe40-48b5-89da-b33f0a57d37c",
   "metadata": {},
   "outputs": [
    {
     "data": {
      "application/vnd.jupyter.widget-view+json": {
       "model_id": "af75affa0394431d8f3235b4f0c5e977",
       "version_major": 2,
       "version_minor": 0
      },
      "text/plain": [
       "  0%|          | 0/48005 [00:00<?, ?it/s]"
      ]
     },
     "metadata": {},
     "output_type": "display_data"
    },
    {
     "name": "stdout",
     "output_type": "stream",
     "text": [
      "437\n",
      "454\n",
      "726\n",
      "863\n",
      "1292\n",
      "1524\n",
      "2184\n",
      "2853\n",
      "2962\n",
      "3361\n",
      "3833\n",
      "3969\n"
     ]
    },
    {
     "ename": "KeyboardInterrupt",
     "evalue": "",
     "output_type": "error",
     "traceback": [
      "\u001b[0;31m---------------------------------------------------------------------------\u001b[0m",
      "\u001b[0;31mKeyboardInterrupt\u001b[0m                         Traceback (most recent call last)",
      "\u001b[0;32m/tmp/ipykernel_28428/859655545.py\u001b[0m in \u001b[0;36m<module>\u001b[0;34m\u001b[0m\n\u001b[1;32m     45\u001b[0m \u001b[0;34m\u001b[0m\u001b[0m\n\u001b[1;32m     46\u001b[0m \u001b[0;34m\u001b[0m\u001b[0m\n\u001b[0;32m---> 47\u001b[0;31m         \u001b[0;32mif\u001b[0m \u001b[0mabs\u001b[0m\u001b[0;34m(\u001b[0m\u001b[0mtruth_pdg_list\u001b[0m\u001b[0;34m[\u001b[0m\u001b[0mj\u001b[0m\u001b[0;34m]\u001b[0m\u001b[0;34m)\u001b[0m \u001b[0;34m==\u001b[0m \u001b[0;36m12\u001b[0m \u001b[0;32mor\u001b[0m \u001b[0mabs\u001b[0m\u001b[0;34m(\u001b[0m\u001b[0mtruth_pdg_list\u001b[0m\u001b[0;34m[\u001b[0m\u001b[0mj\u001b[0m\u001b[0;34m]\u001b[0m\u001b[0;34m)\u001b[0m \u001b[0;34m==\u001b[0m \u001b[0;36m14\u001b[0m\u001b[0;34m:\u001b[0m \u001b[0;31m# neutrino, must be at neutrino vertex\u001b[0m\u001b[0;34m\u001b[0m\u001b[0;34m\u001b[0m\u001b[0m\n\u001b[0m\u001b[1;32m     48\u001b[0m             \u001b[0mtrue_vtx_location\u001b[0m \u001b[0;34m=\u001b[0m \u001b[0;34m[\u001b[0m\u001b[0mtruth_startXYZT_list\u001b[0m\u001b[0;34m[\u001b[0m\u001b[0mj\u001b[0m\u001b[0;34m]\u001b[0m\u001b[0;34m[\u001b[0m\u001b[0;36m0\u001b[0m\u001b[0;34m]\u001b[0m\u001b[0;34m,\u001b[0m \u001b[0mtruth_startXYZT_list\u001b[0m\u001b[0;34m[\u001b[0m\u001b[0mj\u001b[0m\u001b[0;34m]\u001b[0m\u001b[0;34m[\u001b[0m\u001b[0;36m1\u001b[0m\u001b[0;34m]\u001b[0m\u001b[0;34m,\u001b[0m \u001b[0mtruth_startXYZT_list\u001b[0m\u001b[0;34m[\u001b[0m\u001b[0mj\u001b[0m\u001b[0;34m]\u001b[0m\u001b[0;34m[\u001b[0m\u001b[0;36m2\u001b[0m\u001b[0;34m]\u001b[0m\u001b[0;34m]\u001b[0m\u001b[0;34m\u001b[0m\u001b[0;34m\u001b[0m\u001b[0m\n\u001b[1;32m     49\u001b[0m \u001b[0;34m\u001b[0m\u001b[0m\n",
      "\u001b[0;31mKeyboardInterrupt\u001b[0m: "
     ]
    }
   ],
   "source": [
    "nums_true_pi0s = []\n",
    "nums_close_pi0s = []\n",
    "all_pi0_dists = []\n",
    "\n",
    "truth_pdgs = cc_pi0_df[\"truth_pdg\"].to_numpy()\n",
    "truth_mothers = cc_pi0_df[\"truth_mother\"].to_numpy()\n",
    "truth_startMomentums = cc_pi0_df[\"truth_startMomentum\"].to_numpy()\n",
    "\n",
    "truth_startXYZTs = cc_pi0_df[\"truth_startXYZT\"].to_numpy()\n",
    "truth_nu_vtx_Xs = cc_pi0_df[\"truth_vtxX\"].to_numpy()\n",
    "truth_nu_vtx_Ys = cc_pi0_df[\"truth_vtxY\"].to_numpy()\n",
    "truth_nu_vtx_Zs = cc_pi0_df[\"truth_vtxZ\"].to_numpy()\n",
    "\n",
    "muon_count = 0\n",
    "muon_event_count = 0\n",
    "\n",
    "for i in tqdm(range(cc_pi0_df.shape[0])):\n",
    "    #for i in tqdm(range(21939, 21939+1)):\n",
    "\n",
    "    num_true_pi0s = 0\n",
    "    num_close_pi0s = 0\n",
    "    \n",
    "    truth_pdg_list = truth_pdgs[i]\n",
    "    truth_mother_list = truth_mothers[i]\n",
    "    truth_startMomentum_list = truth_startMomentums[i]\n",
    "    \n",
    "    truth_startXYZT_list = truth_startXYZTs[i]\n",
    "    \n",
    "    true_vtx_location = [-1000, -1000, -1000] # temporary\n",
    "    \n",
    "    found_muon = False\n",
    "\n",
    "    for j in range(len(truth_pdg_list)):\n",
    "        \n",
    "        if truth_mother_list[j]==0 and abs(truth_pdg_list[j]) == 13: # primary muon\n",
    "            \n",
    "            print(i)\n",
    "            \n",
    "            if found_muon == False:\n",
    "                muon_event_count += 1\n",
    "                found_muon = False\n",
    "            \n",
    "            muon_count += 1\n",
    "        \n",
    "        \n",
    "        \n",
    "        if abs(truth_pdg_list[j]) == 12 or abs(truth_pdg_list[j]) == 14: # neutrino, must be at neutrino vertex\n",
    "            true_vtx_location = [truth_startXYZT_list[j][0], truth_startXYZT_list[j][1], truth_startXYZT_list[j][2]]\n",
    "            \n",
    "        if truth_pdg_list[j] == 111: # pi0\n",
    "        \n",
    "            if truth_mother_list[j] == 0: # primary\n",
    "                num_true_pi0s += 1\n",
    "\n",
    "            dist_from_true_vtx = np.sqrt(\n",
    "                (true_vtx_location[0] - truth_startXYZT_list[j][0])**2\n",
    "                + (true_vtx_location[1] - truth_startXYZT_list[j][1])**2\n",
    "                + (true_vtx_location[2] - truth_startXYZT_list[j][2])**2\n",
    "            )\n",
    "            \n",
    "            all_pi0_dists.append(dist_from_true_vtx)\n",
    "\n",
    "            if dist_from_true_vtx < 0.1:\n",
    "                num_close_pi0s += 1\n",
    "\n",
    "    nums_true_pi0s.append(num_true_pi0s)    \n",
    "    nums_close_pi0s.append(num_close_pi0s)\n",
    "    "
   ]
  },
  {
   "cell_type": "code",
   "execution_count": 5,
   "id": "57cebafe-c422-4dc5-9a34-b6be47a3210d",
   "metadata": {},
   "outputs": [
    {
     "name": "stdout",
     "output_type": "stream",
     "text": [
      "114\n",
      "114\n"
     ]
    }
   ],
   "source": [
    "print(muon_count)\n",
    "print(muon_event_count)"
   ]
  },
  {
   "cell_type": "code",
   "execution_count": 6,
   "id": "154463e4-68f5-4c16-99cd-865cb04e09be",
   "metadata": {},
   "outputs": [
    {
     "name": "stdout",
     "output_type": "stream",
     "text": [
      "7014\n",
      "361\n",
      "18051\n"
     ]
    }
   ],
   "source": [
    "print(cc_pi0_df[\"run\"].to_numpy()[21939])\n",
    "print(cc_pi0_df[\"subrun\"].to_numpy()[21939])\n",
    "print(cc_pi0_df[\"event\"].to_numpy()[21939])\n"
   ]
  },
  {
   "cell_type": "code",
   "execution_count": 7,
   "id": "41db5e69-57b9-4192-8bcf-067380aaa1fd",
   "metadata": {},
   "outputs": [
    {
     "name": "stdout",
     "output_type": "stream",
     "text": [
      "21939\n",
      "3\n"
     ]
    }
   ],
   "source": [
    "print(np.argmax(nums_true_pi0s))\n",
    "print(nums_true_pi0s[21939])\n"
   ]
  },
  {
   "cell_type": "code",
   "execution_count": 8,
   "id": "4bb05a0b-3925-4c61-8b4e-15b66a0c9d14",
   "metadata": {},
   "outputs": [
    {
     "data": {
      "text/plain": [
       "array([        14,       2212,       2112,        111,       2212,\n",
       "               22,         22,       2112,       2212,       2112,\n",
       "       1000230500,         11,        -11,         11,         22,\n",
       "               14,        111,       2212,       2112,       -211,\n",
       "              111,         22,         22,       2212,       2112,\n",
       "             2112,       2112,       2112,       2112,       2112,\n",
       "       1000160330,         11,        -11,         11,        -11,\n",
       "               22,         11,        -11,         22,       2112,\n",
       "       1000010020, 1000180380,       2112,       2112,       2112,\n",
       "             2212,       2112, 1000020040, 1000150320,       2212,\n",
       "             2212,       2112,       2112, 1000170370,         11,\n",
       "              -11,         11,         22,         11,        -11,\n",
       "               22,         22, 1000180400, 1000180400, 1000180360,\n",
       "       1000180400, 1000260550, 1000180400, 1000180400, 1000180400,\n",
       "             2112, 1000180400,       2212,       2112,       2112,\n",
       "       1000180390, 1000180400, 1000180400, 1000180400, 1000180400,\n",
       "       1000180400, 1000180400, 1000180400,       2112, 1000180400,\n",
       "             2112,       2112, 1000180390, 1000180400,       2112,\n",
       "             2112, 1000180390,       2112, 1000180400, 1000180400,\n",
       "             2112, 1000180400, 1000180400, 1000180400,       2112,\n",
       "       1000180400, 1000180400,       2112, 1000180400,         22,\n",
       "               22,         22,        -11,         11,        -11,\n",
       "               11,        -11,         11,         22,        -11,\n",
       "               11,        -11,         22,        -11, 1000180400,\n",
       "       1000180400, 1000180400,       2112,       2112, 1000180390,\n",
       "       1000180400, 1000180400, 1000180400,       2112, 1000180400,\n",
       "       1000180400, 1000180400,       2112,       2112, 1000240520,\n",
       "       1000180400,       2112, 1000180400], dtype=int32)"
      ]
     },
     "execution_count": 8,
     "metadata": {},
     "output_type": "execute_result"
    }
   ],
   "source": [
    "truth_pdgs[21939]"
   ]
  },
  {
   "cell_type": "code",
   "execution_count": 9,
   "id": "89ae1cde-c02c-4900-b363-a877357a128c",
   "metadata": {},
   "outputs": [
    {
     "data": {
      "text/plain": [
       "array([   0,    0,    0,    0,    0,    4,    4,    3,    3,    3,    3,\n",
       "          7,    7,    6,  131,    0,    0,    0,    0,    0,    0,  654,\n",
       "        654,  653,  653,  653,  653,  653,  653,  653,  653,  656,  656,\n",
       "        655,  655,  744,  752,  752,  695,  658,  658,  658,  652,  652,\n",
       "        652,  652,  652,  652,  652,  651,  651,  651,  651,  651,  881,\n",
       "        650,  650,  650, 1097, 1097, 1137, 1137,  904,  904,  904,  902,\n",
       "        902,  893,  893,  893,  893,  893, 1209,  892,  892,  892, 1216,\n",
       "       1216, 1216, 1216, 1216, 1216, 1216,  891,  891, 1235, 1235, 1235,\n",
       "       1241, 1241, 1241, 1241, 1246, 1246, 1262,  886,  886,  665,  664,\n",
       "        663,  663, 1370,  662,  662, 1136, 1136, 1136, 1403, 1398, 1398,\n",
       "       1388, 1388, 1185, 2267, 2271, 1159, 1159, 2359, 2363, 1378,  660,\n",
       "        660,  660,  660,  660, 2635, 2635, 2633, 2633, 2633,  659,  659,\n",
       "        659,  659,  659, 2664, 2663, 2663], dtype=int32)"
      ]
     },
     "execution_count": 9,
     "metadata": {},
     "output_type": "execute_result"
    }
   ],
   "source": [
    "truth_mothers[21939]"
   ]
  },
  {
   "cell_type": "code",
   "execution_count": 10,
   "id": "3f007a74-c3e5-4136-a899-d06f9d4f12af",
   "metadata": {},
   "outputs": [
    {
     "data": {
      "text/plain": [
       "822.90656"
      ]
     },
     "execution_count": 10,
     "metadata": {},
     "output_type": "execute_result"
    }
   ],
   "source": [
    "cc_pi0_df[\"truth_nuEnergy\"].to_numpy()[21939]"
   ]
  },
  {
   "cell_type": "code",
   "execution_count": null,
   "id": "1257cf45-565e-40c1-a2c9-cbbc44e80cba",
   "metadata": {},
   "outputs": [],
   "source": []
  },
  {
   "cell_type": "code",
   "execution_count": null,
   "id": "f0b90d90-8ca0-4418-8429-41c8e4e236e8",
   "metadata": {},
   "outputs": [],
   "source": []
  },
  {
   "cell_type": "code",
   "execution_count": 26,
   "id": "9b42f8d1-59bc-42d7-a4d3-59b35b540b02",
   "metadata": {},
   "outputs": [
    {
     "data": {
      "text/plain": [
       "array([        14,       2112,        111,       2212,         22,\n",
       "               22,       2112,       2112, 1000180390, 1000260560,\n",
       "               11,        -11,         22,         11,        -11,\n",
       "               22,         22,         11,         11,        -11,\n",
       "               13,       2212,       2112,       2112, 1000190390,\n",
       "               11,         11,         11,         14,       2112,\n",
       "             2112,       2112,       2112,       2112, 1000170350,\n",
       "             2212, 1000180400, 1000180400, 1000180400, 1000180400,\n",
       "       1000180400, 1000180400, 1000180400, 1000180400,       2112,\n",
       "       1000180400, 1000180400, 1000180400,       2112, 1000180400,\n",
       "       1000180400, 1000180400, 1000180400, 1000180400, 1000180400,\n",
       "       1000180400,       2212], dtype=int32)"
      ]
     },
     "execution_count": 26,
     "metadata": {},
     "output_type": "execute_result"
    }
   ],
   "source": [
    "truth_pdgs[437]"
   ]
  },
  {
   "cell_type": "code",
   "execution_count": 27,
   "id": "847c86ca-4751-4396-bea7-12055ae15f79",
   "metadata": {},
   "outputs": [
    {
     "data": {
      "text/plain": [
       "array([   0,    0,    0,    0,    3,    3,    2,    2,    2,    8,    6,\n",
       "          6,  182,    5,    5,  249,  248,  248,  286,  286,    0,    0,\n",
       "        582,  582,  582,  581,  581,  581,  581,  581,  581,  581,  581,\n",
       "        581,  581,  807,  805,  805,  804,  804,  804,  804,  804,  804,\n",
       "        803,  803, 1053, 1053, 1053, 1053,  802,  589,  589,  589,  589,\n",
       "        589,  589], dtype=int32)"
      ]
     },
     "execution_count": 27,
     "metadata": {},
     "output_type": "execute_result"
    }
   ],
   "source": [
    "truth_mothers[437]"
   ]
  },
  {
   "cell_type": "code",
   "execution_count": null,
   "id": "18877411-0dc6-4116-9d38-6b1825e4584d",
   "metadata": {},
   "outputs": [],
   "source": []
  },
  {
   "cell_type": "code",
   "execution_count": 11,
   "id": "4bcd03ac-aba1-4874-a71d-6a72dbb58f34",
   "metadata": {},
   "outputs": [
    {
     "name": "stdout",
     "output_type": "stream",
     "text": [
      "111 111\n"
     ]
    }
   ],
   "source": [
    "print(truth_pdgs[21939][3], truth_pdgs[21939][16])"
   ]
  },
  {
   "cell_type": "code",
   "execution_count": 12,
   "id": "9b2fadbc-725e-4e35-937d-8dd32dfd2e2a",
   "metadata": {},
   "outputs": [
    {
     "name": "stdout",
     "output_type": "stream",
     "text": [
      "[ 180.3592   152.5564   316.19836 3458.498  ] [ 135.90643   85.18726  662.3689  4344.7734 ]\n"
     ]
    }
   ],
   "source": [
    "print(truth_startXYZTs[21939][3], truth_startXYZTs[21939][16])"
   ]
  },
  {
   "cell_type": "code",
   "execution_count": null,
   "id": "ac380322-7e9b-4cde-8dbe-71f023ed3201",
   "metadata": {},
   "outputs": [],
   "source": []
  },
  {
   "cell_type": "code",
   "execution_count": 13,
   "id": "9492cd7f-c41f-4273-b1b4-868866eb0393",
   "metadata": {},
   "outputs": [
    {
     "data": {
      "image/png": "[encoded data removed]",
      "text/plain": [
       "<Figure size 432x288 with 1 Axes>"
      ]
     },
     "metadata": {
      "needs_background": "light"
     },
     "output_type": "display_data"
    },
    {
     "name": "stdout",
     "output_type": "stream",
     "text": [
      "1 3\n"
     ]
    },
    {
     "data": {
      "image/png": "[encoded data removed]",
      "text/plain": [
       "<Figure size 432x288 with 1 Axes>"
      ]
     },
     "metadata": {
      "needs_background": "light"
     },
     "output_type": "display_data"
    },
    {
     "name": "stdout",
     "output_type": "stream",
     "text": [
      "0 2\n"
     ]
    },
    {
     "data": {
      "image/png": "[encoded data removed]",
      "text/plain": [
       "<Figure size 432x288 with 1 Axes>"
      ]
     },
     "metadata": {
      "needs_background": "light"
     },
     "output_type": "display_data"
    },
    {
     "name": "stdout",
     "output_type": "stream",
     "text": [
      "1 3\n"
     ]
    }
   ],
   "source": [
    "plt.figure()\n",
    "n, bins, patches = plt.hist(nums_true_pi0s, range=(-0.5, 3.5), bins=4)\n",
    "plt.xlabel(\"true number of primary pi0s\\n(from PF file and mother==0)\")\n",
    "plt.yscale(\"log\")\n",
    "plt.show()\n",
    "\n",
    "print(np.min(nums_true_pi0s), np.max(nums_true_pi0s))\n",
    "\n",
    "\n",
    "nums_true_pi0s_v2 = cc_pi0_df[\"truth_NprimPio\"].to_numpy()\n",
    "\n",
    "plt.figure()\n",
    "n2, bins, patches = plt.hist(nums_true_pi0s_v2, range=(-0.5, 3.5), bins=4)\n",
    "plt.xlabel(\"true number of primary pi0s\\n(from truth_NprimPio variable)\")\n",
    "plt.yscale(\"log\")\n",
    "plt.show()\n",
    "\n",
    "print(np.min(nums_true_pi0s_v2), np.max(nums_true_pi0s_v2))\n",
    "\n",
    "plt.figure()\n",
    "n3, bins, patches = plt.hist(nums_close_pi0s, range=(-0.5, 3.5), bins=4)\n",
    "plt.xlabel(\"true number of pi0s within 0.1 cm of neutrino vtx\")\n",
    "plt.yscale(\"log\")\n",
    "plt.show()\n",
    "\n",
    "print(np.min(nums_close_pi0s), np.max(nums_close_pi0s))\n",
    "\n",
    "\"\"\"plt.figure()\n",
    "n4, bins, patches = plt.hist(all_pi0_dists, range=(0, 5))\n",
    "plt.xlabel(\"pi0-true vtx dist (cm)\")\n",
    "plt.yscale(\"log\")\n",
    "plt.show()\n",
    "\n",
    "print(np.min(all_pi0_dists), np.max(all_pi0_dists))\"\"\"\n",
    "pass\n"
   ]
  },
  {
   "cell_type": "code",
   "execution_count": 14,
   "id": "44c3b07f-12a5-4fc7-8ba9-7040aa0c189e",
   "metadata": {},
   "outputs": [
    {
     "name": "stdout",
     "output_type": "stream",
     "text": [
      "ratio of 1 pi0 to 2 pi0: 2284.904761904762\n"
     ]
    }
   ],
   "source": [
    "# from from PF file and mother==0\n",
    "\n",
    "print(f\"ratio of 1 pi0 to 2 pi0:\", n[1] / n[2])\n",
    "\n",
    "# ratio of 1pi0 to 2pi0 events in run 1:\n",
    "\n",
    "# inf for CC Pi0 file\n",
    "\n",
    "# 2284.90 for NC Pi0 file\n",
    "\n",
    "# 14.456 for nu overlay file\n",
    "# 12.38 for CC events in the nu overlay file\n",
    "# 20.177 for NC events in the nu overlay file\n"
   ]
  },
  {
   "cell_type": "code",
   "execution_count": 15,
   "id": "71e16cb9-586d-4c00-8c4e-c19086267558",
   "metadata": {},
   "outputs": [
    {
     "name": "stdout",
     "output_type": "stream",
     "text": [
      "ratio of 1 pi0 to 2 pi0: 2156.318181818182\n"
     ]
    }
   ],
   "source": [
    "# from truth_NprimPio variable\n",
    "\n",
    "print(f\"ratio of 1 pi0 to 2 pi0:\", n2[1] / n2[2])\n",
    "\n",
    "# ratio of 1pi0 to 2pi0 events in run 1:\n",
    "\n",
    "# inf for CC Pi0 file\n",
    "\n",
    "# 2156.318 for NC Pi0 file\n",
    "\n",
    "# 14.51 for nu overlay file\n",
    "# 12.46 for CC events in the nu overlay file\n",
    "# 20.12 for NC events in the nu overlay file\n"
   ]
  },
  {
   "cell_type": "code",
   "execution_count": 16,
   "id": "f06f20f9-6bc8-4903-96a9-54fa03384a19",
   "metadata": {},
   "outputs": [
    {
     "name": "stdout",
     "output_type": "stream",
     "text": [
      "253\n",
      "0\n"
     ]
    }
   ],
   "source": [
    "print(np.argmin(nums_true_pi0s_v2))\n",
    "print(nums_true_pi0s_v2[253])"
   ]
  },
  {
   "cell_type": "code",
   "execution_count": 17,
   "id": "ecd7240c-11c5-444a-a6ef-d2d6128b2455",
   "metadata": {},
   "outputs": [
    {
     "data": {
      "text/plain": [
       "array([        14,        111, 1000180400,         22,         11,\n",
       "              -11,         22,         22,         22,         22,\n",
       "               11,         11,         11,         11,        -11,\n",
       "               22,         22,         22,         22,         22,\n",
       "               22,         22,         22,         11,        -11,\n",
       "              -11,         11,        -11,         11,         11,\n",
       "              -11,         11], dtype=int32)"
      ]
     },
     "execution_count": 17,
     "metadata": {},
     "output_type": "execute_result"
    }
   ],
   "source": [
    "cc_pi0_df[\"truth_pdg\"][253]\n"
   ]
  },
  {
   "cell_type": "code",
   "execution_count": 18,
   "id": "9eeb5ec7-06ce-41fa-b686-b78977108752",
   "metadata": {},
   "outputs": [
    {
     "data": {
      "text/plain": [
       "array([  0,   0,   0,   2,   6,   6,  13,  13,  12,  12,  32,  27,  27,\n",
       "        15,  15, 263, 262, 262, 262, 262, 262, 262, 262, 338, 338, 320,\n",
       "       313, 313, 308, 307, 285, 278], dtype=int32)"
      ]
     },
     "execution_count": 18,
     "metadata": {},
     "output_type": "execute_result"
    }
   ],
   "source": [
    "cc_pi0_df[\"truth_mother\"][253]\n"
   ]
  },
  {
   "cell_type": "code",
   "execution_count": 19,
   "id": "84f1eaa2-085c-4291-b6f2-e434ab851528",
   "metadata": {},
   "outputs": [
    {
     "data": {
      "text/plain": [
       "array([  0,   0,   0,   2,   6,   6,  13,  13,  12,  12,  32,  27,  27,\n",
       "        15,  15, 263, 262, 262, 262, 262, 262, 262, 262, 338, 338, 320,\n",
       "       313, 313, 308, 307, 285, 278], dtype=int32)"
      ]
     },
     "execution_count": 19,
     "metadata": {},
     "output_type": "execute_result"
    }
   ],
   "source": [
    "cc_pi0_df[\"truth_mother\"][253]\n"
   ]
  },
  {
   "cell_type": "code",
   "execution_count": 20,
   "id": "b801110d-10ab-4408-864d-b9e9a09a2cb8",
   "metadata": {},
   "outputs": [
    {
     "data": {
      "text/plain": [
       "array([[ 4.88777943e-02,  8.41147676e-02,  5.51745355e-01,\n",
       "         5.60256422e-01],\n",
       "       [-8.94745812e-03, -2.06361309e-01,  5.17775297e-01,\n",
       "         5.73563397e-01],\n",
       "       [-3.56914178e-02,  1.20144494e-01,  6.42893538e-02,\n",
       "         3.72158051e+01],\n",
       "       [-1.29179610e-02, -2.16974616e-01,  5.18364847e-01,\n",
       "         5.62091589e-01],\n",
       "       [-2.79309507e-03, -4.95947935e-02,  1.17330812e-01,\n",
       "         1.27413601e-01],\n",
       "       [-1.01248119e-02, -1.67378888e-01,  4.01031792e-01,\n",
       "         4.34677988e-01],\n",
       "       [-1.91386491e-02, -1.25123665e-01,  3.80020887e-01,\n",
       "         4.00547266e-01],\n",
       "       [-6.71908818e-03, -1.70916668e-03,  7.49356253e-03,\n",
       "         1.02088628e-02],\n",
       "       [-6.46109518e-04, -1.31022064e-02,  3.38481106e-02,\n",
       "         3.63012403e-02],\n",
       "       [-2.31054402e-03, -4.02670121e-03,  1.48424702e-02,\n",
       "         1.55515876e-02],\n",
       "       [-2.68123415e-03, -3.93639179e-03,  1.49227418e-02,\n",
       "         1.56727005e-02],\n",
       "       [ 8.54239101e-04, -1.14076873e-02,  2.25637369e-02,\n",
       "         2.53031310e-02],\n",
       "       [-3.08571471e-04, -2.12205900e-03,  9.90662538e-03,\n",
       "         1.01489257e-02],\n",
       "       [-1.82155371e-02, -1.17214195e-01,  3.57821763e-01,\n",
       "         3.76971662e-01],\n",
       "       [-9.22505686e-04, -7.90486205e-03,  2.21857838e-02,\n",
       "         2.35755797e-02],\n",
       "       [-2.20104848e-04, -8.06874037e-03,  8.87043588e-03,\n",
       "         1.19932331e-02],\n",
       "       [-6.60272955e-04, -5.28458646e-03,  1.48835145e-02,\n",
       "         1.58076510e-02],\n",
       "       [ 7.13878835e-05, -9.48781241e-03,  2.33084187e-02,\n",
       "         2.51655728e-02],\n",
       "       [-4.19213000e-04, -8.09178408e-03,  2.04875767e-02,\n",
       "         2.20316481e-02],\n",
       "       [-1.83503726e-03, -1.35289337e-02,  3.63940857e-02,\n",
       "         3.88706699e-02],\n",
       "       [-9.80632147e-04, -1.34049794e-02,  2.77926810e-02,\n",
       "         3.08721270e-02],\n",
       "       [ 4.31138370e-03, -1.16274301e-02,  4.91061881e-02,\n",
       "         5.06478325e-02],\n",
       "       [-1.44511717e-03, -5.72134275e-03,  8.57763737e-03,\n",
       "         1.04114357e-02],\n",
       "       [ 1.85016997e-03, -5.64267533e-03,  2.32360940e-02,\n",
       "         2.39883326e-02],\n",
       "       [ 2.46015494e-03, -5.98186813e-03,  2.58579329e-02,\n",
       "         2.66594999e-02],\n",
       "       [-1.27040350e-03, -1.15559539e-02,  2.49253437e-02,\n",
       "         2.75079608e-02],\n",
       "       [-2.10532336e-03, -4.83749202e-03,  1.09149627e-02,\n",
       "         1.21338880e-02],\n",
       "       [ 2.84452748e-04, -8.62276740e-03,  2.53014099e-02,\n",
       "         2.67367810e-02],\n",
       "       [-8.62960005e-04, -7.90852774e-03,  2.05652602e-02,\n",
       "         2.20563039e-02],\n",
       "       [ 3.30511866e-05, -9.11957491e-03,  2.35330816e-02,\n",
       "         2.52435096e-02],\n",
       "       [-6.16123958e-04, -4.04114742e-03,  1.24375504e-02,\n",
       "         1.31020714e-02],\n",
       "       [-4.75223060e-04, -6.71609398e-03,  8.84467643e-03,\n",
       "         1.11274961e-02]], dtype=float32)"
      ]
     },
     "execution_count": 20,
     "metadata": {},
     "output_type": "execute_result"
    }
   ],
   "source": [
    "cc_pi0_df[\"truth_startMomentum\"][253]\n"
   ]
  },
  {
   "cell_type": "code",
   "execution_count": 21,
   "id": "fc372565-0d1b-424d-b43e-ff6a662e90f5",
   "metadata": {},
   "outputs": [
    {
     "data": {
      "text/plain": [
       "0"
      ]
     },
     "execution_count": 21,
     "metadata": {},
     "output_type": "execute_result"
    }
   ],
   "source": [
    "cc_pi0_df[\"truth_NprimPio\"][253]\n"
   ]
  },
  {
   "cell_type": "code",
   "execution_count": 22,
   "id": "f474c71b-3c89-4acc-ba53-0cc0b7c70e36",
   "metadata": {},
   "outputs": [
    {
     "name": "stdout",
     "output_type": "stream",
     "text": [
      "[        14       2212       2112        111       2212         22\n",
      "         22       2112       2212       2112 1000230500         11\n",
      "        -11         11         22         14        111       2212\n",
      "       2112       -211]\n",
      "[  0   0   0   0   0   4   4   3   3   3   3   7   7   6 131   0   0   0\n",
      "   0   0]\n",
      "[[ 1.31601676e-01  5.06655797e-02  4.04103577e-01  4.28001970e-01]\n",
      " [ 4.09412645e-02 -2.91826159e-01  1.73213795e-01  9.98597026e-01]\n",
      " [-4.40331511e-02  2.35806908e-02  2.85728097e-01  9.83320177e-01]\n",
      " [ 6.56615272e-02  3.24843712e-02 -1.54623270e-01  2.17930511e-01]\n",
      " [-2.71109492e-01 -6.56777173e-02  1.92406967e-01  9.97591496e-01]\n",
      " [ 3.43118375e-03  6.29565027e-03  2.50155516e-02  2.60227993e-02]\n",
      " [ 6.22303449e-02  2.61887200e-02 -1.79638818e-01  1.91907719e-01]\n",
      " [-1.07602172e-01 -8.10087100e-03  6.73767179e-02  9.48138475e-01]\n",
      " [ 5.13137970e-03 -4.88660820e-02 -9.18317661e-02  9.44034755e-01]\n",
      " [ 6.01321757e-02  6.94734156e-02 -3.07206437e-02  9.44547117e-01]\n",
      " [-3.00642423e-04  1.15976622e-02  3.41473997e-01  4.65150070e+01]\n",
      " [ 3.67914513e-02  1.51564311e-02 -1.09266490e-01  1.16287388e-01]\n",
      " [ 2.54325531e-02  1.10296085e-02 -7.03541487e-02  7.56203309e-02]\n",
      " [ 3.18353204e-03  6.70207944e-03  2.49718633e-02  2.60558594e-02]\n",
      " [ 2.91670430e-02  1.25784818e-02 -9.81345773e-02  1.03147127e-01]\n",
      " [-1.56485677e-01  4.57294099e-02 -4.14080359e-02  1.68206930e-01]\n",
      " [-1.37139400e-02 -3.00655246e-01  6.04589023e-02  3.35344017e-01]\n",
      " [ 2.99229529e-02  8.76224265e-02  9.27976668e-01  1.32290137e+00]\n",
      " [ 4.15600091e-02  1.24853164e-01  9.23390150e-01  1.32391393e+00]\n",
      " [ 4.19558026e-03  1.54456586e-01 -1.12130173e-01  2.36489803e-01]]\n"
     ]
    }
   ],
   "source": [
    "#np.set_printoptions(linewidth=400)\n",
    "\n",
    "print(cc_pi0_df[\"truth_pdg\"][21939][:20])\n",
    "print(cc_pi0_df[\"truth_mother\"][21939][:20])\n",
    "print(cc_pi0_df[\"truth_startMomentum\"][21939][:20])"
   ]
  },
  {
   "cell_type": "code",
   "execution_count": 23,
   "id": "e87033b1-5613-4d23-a42b-5bf5eb7bf920",
   "metadata": {},
   "outputs": [],
   "source": [
    "# CONCLUSION: only 1pi0 events simulated in the NC Pi0 and CC Pi0 overlay files\n",
    "# >= 2pi0 events are present in the nu overlay files\n",
    "# need to be careful about e"
   ]
  },
  {
   "cell_type": "code",
   "execution_count": null,
   "id": "2c5564e6-daa6-491e-9442-4486b00ce15a",
   "metadata": {},
   "outputs": [],
   "source": []
  },
  {
   "cell_type": "code",
   "execution_count": null,
   "id": "97832225-4866-46d1-80a0-664748240fce",
   "metadata": {},
   "outputs": [],
   "source": []
  },
  {
   "cell_type": "code",
   "execution_count": null,
   "id": "937bfaef-0c6b-439b-b769-aff58b9caa26",
   "metadata": {},
   "outputs": [],
   "source": []
  },
  {
   "cell_type": "code",
   "execution_count": null,
   "id": "78470f85-094f-43c2-88fb-ca80ee097353",
   "metadata": {},
   "outputs": [],
   "source": []
  }
 ],
 "metadata": {
  "kernelspec": {
   "display_name": "Python 3 (ipykernel)",
   "language": "python",
   "name": "python3"
  },
  "language_info": {
   "codemirror_mode": {
    "name": "ipython",
    "version": 3
   },
   "file_extension": ".py",
   "mimetype": "text/x-python",
   "name": "python",
   "nbconvert_exporter": "python",
   "pygments_lexer": "ipython3",
   "version": "3.7.7"
  }
 },
 "nbformat": 4,
 "nbformat_minor": 5
}
