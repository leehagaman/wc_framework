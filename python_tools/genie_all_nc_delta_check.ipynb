{
 "cells": [
  {
   "cell_type": "code",
   "execution_count": 1,
   "id": "72de6cf2-55f8-43bb-8a35-fe7aaccf4e25",
   "metadata": {},
   "outputs": [],
   "source": [
    "import uproot as uproot\n",
    "import numpy as np\n",
    "import matplotlib.pyplot as plt\n",
    "from tqdm.notebook import tqdm\n"
   ]
  },
  {
   "cell_type": "code",
   "execution_count": 2,
   "id": "b27e45e6-fb8c-4a5a-a6c9-e081da22b73f",
   "metadata": {},
   "outputs": [],
   "source": [
    "f = uproot.open(\"/data1/hagaman/xin_files/processed_checkout_rootfiles/prodgenie_bnb_nc_delta_overlay_run1_PF/UBGenieFluxSmallUni.root\")"
   ]
  },
  {
   "cell_type": "code",
   "execution_count": 3,
   "id": "65addbdd-8bf9-432a-8dab-172f97e95558",
   "metadata": {},
   "outputs": [],
   "source": [
    "#f[\"wcpselection\"].items()"
   ]
  },
  {
   "cell_type": "code",
   "execution_count": 4,
   "id": "a6b6eb1d-6f5d-4d49-89c7-8ac8a1ab1b53",
   "metadata": {},
   "outputs": [],
   "source": [
    "#f[\"wcpselection\"][\"T_weight\"].items()"
   ]
  },
  {
   "cell_type": "code",
   "execution_count": 5,
   "id": "888d30d8-d3e0-4b7d-a890-b12c68f0b21b",
   "metadata": {},
   "outputs": [
    {
     "name": "stdout",
     "output_type": "stream",
     "text": [
      "(40522, 600) (40522,) (40522,)\n"
     ]
    }
   ],
   "source": [
    "genie_all_weights = f[\"wcpselection\"][\"T_weight\"][\"All_UBGenie\"].array().to_numpy()\n",
    "cv_weights = f[\"wcpselection\"][\"T_weight\"][\"weight_cv\"].array().to_numpy()\n",
    "spline_weights = f[\"wcpselection\"][\"T_weight\"][\"weight_spline\"].array().to_numpy()\n",
    "\n",
    "print(genie_all_weights.shape, cv_weights.shape, spline_weights.shape)"
   ]
  },
  {
   "cell_type": "code",
   "execution_count": 6,
   "id": "281297de-dd9e-4f45-8025-2f5aa0684c7e",
   "metadata": {},
   "outputs": [
    {
     "data": {
      "application/vnd.jupyter.widget-view+json": {
       "model_id": "3fab94499a604c6789d8d7a0b05571d9",
       "version_major": 2,
       "version_minor": 0
      },
      "text/plain": [
       "  0%|          | 0/600 [00:00<?, ?it/s]"
      ]
     },
     "metadata": {},
     "output_type": "display_data"
    }
   ],
   "source": [
    "total_genie_all_weights = []\n",
    "for i in tqdm(range(genie_all_weights.shape[1])): # looping over universes\n",
    "    total_weight = 0\n",
    "    for j in range(genie_all_weights.shape[0]): # looping over events\n",
    "        total_weight += genie_all_weights[j,i] * spline_weights[j]\n",
    "    total_genie_all_weights.append(total_weight)\n",
    "    \n",
    "total_cv_genie_weight = np.sum(cv_weights * spline_weights)\n"
   ]
  },
  {
   "cell_type": "code",
   "execution_count": 7,
   "id": "68ecd0c9-7901-41c7-8773-36a1a562e0b1",
   "metadata": {},
   "outputs": [
    {
     "data": {
      "image/png": "[encoded data removed]",
      "text/plain": [
       "<Figure size 720x504 with 1 Axes>"
      ]
     },
     "metadata": {
      "needs_background": "light"
     },
     "output_type": "display_data"
    }
   ],
   "source": [
    "plt.rcParams.update({'font.size': 18})\n",
    "\n",
    "plt.figure(figsize=(10, 7))\n",
    "plt.hist(total_genie_all_weights, bins=50, label=\"systematic variation values\")\n",
    "plt.axvline(total_cv_genie_weight, c=\"k\", label=\"CV value\")\n",
    "plt.xlabel(f\"sum of All_UBGenie weights for 40522 true NC Delta events\")\n",
    "plt.ylabel(\"number of universes (600 total)\")\n",
    "plt.legend()\n",
    "plt.show()"
   ]
  },
  {
   "cell_type": "code",
   "execution_count": 8,
   "id": "67596f37-3e3c-4be9-b6b3-7c8d8cfe79da",
   "metadata": {},
   "outputs": [
    {
     "name": "stdout",
     "output_type": "stream",
     "text": [
      "from manual investigation of All_UBGenie weights in different universes for the run 1 NC Delta file:\n",
      "\n",
      "CV value:  40522.0\n",
      "variance:  1998011870.6090064\n",
      "fractional variance:  1.216791906376703\n"
     ]
    }
   ],
   "source": [
    "diffs = total_genie_all_weights - total_cv_genie_weight\n",
    "\n",
    "covariance = np.sum(diffs * diffs) / genie_all_weights.shape[1]\n",
    "\n",
    "print(\"from manual investigation of All_UBGenie weights in different universes for the run 1 NC Delta file:\\n\")\n",
    "\n",
    "print(\"CV value: \", total_cv_genie_weight)\n",
    "print(\"variance: \", covariance)\n",
    "print(\"fractional variance: \", covariance / (total_cv_genie_weight * total_cv_genie_weight))"
   ]
  },
  {
   "cell_type": "code",
   "execution_count": 9,
   "id": "a7ec83d2-8b5b-4174-8e9d-5e813ff20cd7",
   "metadata": {},
   "outputs": [
    {
     "name": "stdout",
     "output_type": "stream",
     "text": [
      "mat_collapse;1\n",
      "cov_mat_add;1\n",
      "histo_2;1\n",
      "histo_1;1\n",
      "hdata_obsch_1;1\n",
      "hmc_obsch_1;1\n"
     ]
    }
   ],
   "source": [
    "f = uproot.open(f\"~/wc_framework/LEEana/merge.root\")\n",
    "for k in f.keys():\n",
    "    print(k)\n",
    "    \n"
   ]
  },
  {
   "cell_type": "code",
   "execution_count": 10,
   "id": "688e64c3-7685-429a-9361-ee4637d8d24e",
   "metadata": {},
   "outputs": [
    {
     "name": "stdout",
     "output_type": "stream",
     "text": [
      "[0.02565803 0.         0.         0.        ]\n"
     ]
    }
   ],
   "source": [
    "all_mc_preds = []\n",
    "is_sig = []\n",
    "    \n",
    "for i in range(1, 3): # 1 is mc predictions, 2 is ext\n",
    "    current_preds = list(f[f\"histo_{i}\"].to_numpy(flow=True)[0][1:])\n",
    "    all_mc_preds += current_preds # get the overflow bin only\n",
    "\n",
    "idx = 17\n",
    "\n",
    "f_xs_cov = uproot.open(f\"~/wc_framework/LEEana/hist_rootfiles/XsFlux/cov_{idx}.root\")\n",
    "#f_xs_cov = uproot.open(f\"../LEEana/hist_rootfiles/XsFlux/cov_{idx}.root\")\n",
    "\n",
    "cov_mat_frac = f_xs_cov[f\"frac_cov_xf_mat_{idx}\"].member(\"fElements\")\n",
    "#print(cov_mat_frac.shape, 272*272)\n",
    "cov_mat_frac = cov_mat_frac.reshape((4, 4))\n",
    "\n",
    "cov_mat = f_xs_cov[f\"cov_xf_mat_{idx}\"].member(\"fElements\")\n",
    "#print(cov_mat.shape, 272*272)\n",
    "cov_mat = cov_mat.reshape((4, 4))\n",
    "\n",
    "vec_mean = f_xs_cov[f\"vec_mean_{idx}\"].member(\"fElements\")\n",
    "\n",
    "print(vec_mean)"
   ]
  },
  {
   "cell_type": "code",
   "execution_count": 11,
   "id": "64aa64a5-717a-4f57-ac73-9038f4b44543",
   "metadata": {},
   "outputs": [
    {
     "name": "stdout",
     "output_type": "stream",
     "text": [
      "after running with the framework with just the 1gNp true Np NC Delta signal bin:\n",
      "\n",
      "mc pred from merge.root:  [0.493263, 0.0, 0.0, 0.0]\n",
      "vec mean from cov_17.root:  [0.02565803 0.         0.         0.        ]\n",
      "\n",
      "variance from cov_xf_mat_17 in cov_17.root:  0.0006773613524666683\n",
      "fractional variance from frac_cov_xf_mat_17 in cov_17.root:  1.0289011875743572\n",
      "\n",
      "manually calculated fractional variance from merge.root and cov_xf_mat_17 in cov_17.root:  0.0027839621072529163\n",
      "manually calculated fractional variance from vec_mean_17 and cov_xf_mat_17 in cov_17.root:  1.0289011875743572\n"
     ]
    }
   ],
   "source": [
    "print(\"after running with the framework with just the 1gNp true Np NC Delta signal bin:\\n\")\n",
    "\n",
    "print(\"mc pred from merge.root: \", all_mc_preds)\n",
    "print(\"vec mean from cov_17.root: \", vec_mean)\n",
    "\n",
    "print(\"\\nvariance from cov_xf_mat_17 in cov_17.root: \", cov_mat[0][0])\n",
    "print(\"fractional variance from frac_cov_xf_mat_17 in cov_17.root: \", cov_mat_frac[0][0])\n",
    "\n",
    "print(\"\\nmanually calculated fractional variance from merge.root and cov_xf_mat_17 in cov_17.root: \", cov_mat[0][0] / (all_mc_preds[0] * all_mc_preds[0]))\n",
    "print(\"manually calculated fractional variance from vec_mean_17 and cov_xf_mat_17 in cov_17.root: \", cov_mat[0][0] / (vec_mean[0] * vec_mean[0]))\n"
   ]
  },
  {
   "cell_type": "code",
   "execution_count": null,
   "id": "1cc4b498-121e-4003-8c40-8143966905e4",
   "metadata": {},
   "outputs": [],
   "source": []
  },
  {
   "cell_type": "code",
   "execution_count": null,
   "id": "e87033b1-5613-4d23-a42b-5bf5eb7bf920",
   "metadata": {},
   "outputs": [],
   "source": []
  }
 ],
 "metadata": {
  "kernelspec": {
   "display_name": "Python 3 (ipykernel)",
   "language": "python",
   "name": "python3"
  },
  "language_info": {
   "codemirror_mode": {
    "name": "ipython",
    "version": 3
   },
   "file_extension": ".py",
   "mimetype": "text/x-python",
   "name": "python",
   "nbconvert_exporter": "python",
   "pygments_lexer": "ipython3",
   "version": "3.7.7"
  }
 },
 "nbformat": 4,
 "nbformat_minor": 5
}
