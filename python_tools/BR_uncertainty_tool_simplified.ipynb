{
 "cells": [
  {
   "cell_type": "code",
   "execution_count": 1,
   "id": "000408f3-3c6c-4663-8645-c81c304e00d7",
   "metadata": {},
   "outputs": [],
   "source": [
    "import numpy as np\n",
    "import uproot as uproot\n",
    "\n",
    "import matplotlib.pyplot as plt"
   ]
  },
  {
   "cell_type": "code",
   "execution_count": 2,
   "id": "4c0b30a3-5f74-40ab-9ddb-49667de17f07",
   "metadata": {},
   "outputs": [
    {
     "name": "stdout",
     "output_type": "stream",
     "text": [
      "mat_collapse;1\n",
      "cov_mat_add;1\n",
      "histo_3;1\n",
      "histo_2;1\n",
      "histo_1;1\n",
      "hdata_obsch_1;1\n",
      "hmc_obsch_1;1\n"
     ]
    }
   ],
   "source": [
    "f = uproot.open(\"../LEEana/merge.root\")\n",
    "for k in f.keys():\n",
    "    print(k)\n"
   ]
  },
  {
   "cell_type": "code",
   "execution_count": 3,
   "id": "7d9fd07d-fee6-4774-86be-c8d6294f1889",
   "metadata": {},
   "outputs": [],
   "source": [
    "all_mc_preds = []\n",
    "is_sig = []\n",
    "\n",
    "for i in range(1, 4):\n",
    "    #print(i, f[f\"histo_{i}\"].to_numpy(flow=True)[0][1:])\n",
    "    current_preds = list(f[f\"histo_{i}\"].to_numpy(flow=True)[0][1:])\n",
    "    all_mc_preds += current_preds # get the overflow bin only\n",
    "    \n",
    "\n",
    "#print(6*2+16*12)\n",
    "#print(len(all_mc_preds))\n",
    "#print(all_mc_preds)\n",
    "#print(is_sig)\n"
   ]
  },
  {
   "cell_type": "code",
   "execution_count": 4,
   "id": "1b6ad10b-e1da-44a7-a681-cdbf3db21910",
   "metadata": {},
   "outputs": [
    {
     "data": {
      "text/plain": [
       "[2.644611, 0.00034276984, 0.6736585, 0.0, 1.6263956, 0.0]"
      ]
     },
     "execution_count": 4,
     "metadata": {},
     "output_type": "execute_result"
    }
   ],
   "source": [
    "all_mc_preds"
   ]
  },
  {
   "cell_type": "code",
   "execution_count": 5,
   "id": "a9460b75-a219-4f61-9967-506541557ca0",
   "metadata": {},
   "outputs": [
    {
     "name": "stdout",
     "output_type": "stream",
     "text": [
      "['vec_mean_17;1', 'cov_xf_mat_17;1', 'frac_cov_xf_mat_17;1', 'pred_covch_1;1', 'pred_covch_2;1']\n"
     ]
    },
    {
     "data": {
      "image/png": "[encoded data removed]",
      "text/plain": [
       "<Figure size 720x720 with 2 Axes>"
      ]
     },
     "metadata": {
      "needs_background": "light"
     },
     "output_type": "display_data"
    },
    {
     "data": {
      "image/png": "[encoded data removed]",
      "text/plain": [
       "<Figure size 720x720 with 2 Axes>"
      ]
     },
     "metadata": {
      "needs_background": "light"
     },
     "output_type": "display_data"
    }
   ],
   "source": [
    "idx = 17\n",
    "\n",
    "f_xs_cov = uproot.open(f\"../LEEana/hist_rootfiles/XsFlux/cov_{idx}.root\")\n",
    "print(f_xs_cov.keys())\n",
    "\n",
    "cov_mat_frac = f_xs_cov[f\"frac_cov_xf_mat_{idx}\"].member(\"fElements\")\n",
    "#print(cov_mat_frac.shape, 272*272)\n",
    "cov_mat_frac = cov_mat_frac.reshape((6, 6))\n",
    "\n",
    "cov_mat = f_xs_cov[f\"cov_xf_mat_{idx}\"].member(\"fElements\")\n",
    "#print(cov_mat.shape, 272*272)\n",
    "cov_mat = cov_mat.reshape((6, 6))\n",
    "\n",
    "vec_mean = f_xs_cov[f\"vec_mean_{idx}\"].member(\"fElements\")\n",
    "\n",
    "plt.figure(figsize=(10,10))\n",
    "plt.imshow(cov_mat_frac, origin=\"lower\")\n",
    "plt.colorbar()\n",
    "plt.title(\"Xs cov mat frac\")\n",
    "plt.show()\n",
    "\n",
    "plt.figure(figsize=(10,10))\n",
    "plt.imshow(cov_mat, origin=\"lower\")\n",
    "plt.colorbar()\n",
    "plt.title(\"Xs cov mat\")\n",
    "plt.show()"
   ]
  },
  {
   "cell_type": "code",
   "execution_count": 6,
   "id": "bd9b4d28-6f43-47b8-a28c-5eb6de6ca2f7",
   "metadata": {},
   "outputs": [
    {
     "name": "stdout",
     "output_type": "stream",
     "text": [
      "bin number   type                       total prediction    vec_mean          Xs cov diagonal value\n",
      "0            1gNp, Np sig               2.644611            0.1498774         0.023024448503733055\n",
      "1            1gNp, Np sig               0.00034276984       0.0               0.0\n",
      "2            1gNp, 0p sig               0.6736585           0.04060074        0.0016570158412726075\n",
      "3            1gNp, 0p sig               0.0                 0.0               0.0\n",
      "4            1gNp, EXT bkg              1.6263956           0.0               0.0\n",
      "5            1gNp, EXT bkg              0.0                 0.0               0.0\n"
     ]
    }
   ],
   "source": [
    "print(\"bin number   type                       total prediction    vec_mean          Xs cov diagonal value\")\n",
    "\n",
    "for i in range(6):\n",
    "    s = str(i)\n",
    "    \n",
    "    s = s.ljust(13)\n",
    "    \n",
    "    if i < 2: s += \"1gNp, Np sig\"\n",
    "    elif i < 4: s += \"1gNp, 0p sig\"\n",
    "    elif i < 6: s += \"1gNp, EXT bkg\"\n",
    "    \n",
    "    s = s.ljust(40)\n",
    "    \n",
    "    s += str(all_mc_preds[i])\n",
    "    \n",
    "    s = s.ljust(60)\n",
    "    \n",
    "    s += str(round(vec_mean[i], 8))\n",
    "    \n",
    "    s = s.ljust(78)\n",
    "    \n",
    "    s += str(cov_mat[i][i])\n",
    "    \n",
    "    print(s)"
   ]
  },
  {
   "cell_type": "code",
   "execution_count": null,
   "id": "2d3a2e5c-176c-4da6-86ff-994835a82717",
   "metadata": {},
   "outputs": [],
   "source": []
  },
  {
   "cell_type": "code",
   "execution_count": null,
   "id": "fae44be9-ab00-4f8d-ba2e-61eb6ea9fb6a",
   "metadata": {},
   "outputs": [],
   "source": []
  }
 ],
 "metadata": {
  "kernelspec": {
   "display_name": "Python 3 (ipykernel)",
   "language": "python",
   "name": "python3"
  },
  "language_info": {
   "codemirror_mode": {
    "name": "ipython",
    "version": 3
   },
   "file_extension": ".py",
   "mimetype": "text/x-python",
   "name": "python",
   "nbconvert_exporter": "python",
   "pygments_lexer": "ipython3",
   "version": "3.7.7"
  }
 },
 "nbformat": 4,
 "nbformat_minor": 5
}
