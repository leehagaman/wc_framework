{
 "cells": [
  {
   "cell_type": "code",
   "execution_count": 1,
   "id": "72de6cf2-55f8-43bb-8a35-fe7aaccf4e25",
   "metadata": {},
   "outputs": [],
   "source": [
    "import uproot3 as uproot\n",
    "import numpy as np\n",
    "import pandas as pd\n",
    "import matplotlib.pyplot as plt\n",
    "from tqdm.notebook import tqdm\n"
   ]
  },
  {
   "cell_type": "code",
   "execution_count": 2,
   "id": "b27e45e6-fb8c-4a5a-a6c9-e081da22b73f",
   "metadata": {},
   "outputs": [],
   "source": [
    "f = uproot.open(\"/data1/hagaman/xin_files/processed_checkout_rootfiles/prodgenie_bnb_nc_delta_overlay_run1_PF/UBGenieFluxSmallUni.root\")[\"wcpselection\"]\n",
    "weights_df = f[\"T_weight\"].pandas.df([\"run\", \"subrun\", \"event\", \"All_UBGenie\", \"weight_cv\", \"weight_spline\"], flatten=False)\n",
    "eval_df = f[\"T_eval\"].pandas.df([\"match_isFC\", \"truth_isCC\"], flatten=False)\n",
    "pf_eval_df = f[\"T_PFeval\"].pandas.df([\"truth_pdg\", \"truth_mother\", \"truth_startMomentum\", \"reco_showerKE\", \"truth_NCDelta\", ], flatten=False)\n",
    "bdt_df = f[\"T_BDTvars\"].pandas.df([\"nc_delta_score\"], flatten=False)\n",
    "kine_df = f[\"T_KINEvars\"].pandas.df([\"kine_reco_Enu\", \"kine_energy_particle\", \"kine_particle_type\"], flatten=False)\n",
    "\n",
    "nc_delta_df = pd.concat([weights_df, eval_df, pf_eval_df, bdt_df, kine_df], axis=1, sort=False)\n",
    "\n",
    "del f\n",
    "del weights_df\n",
    "del eval_df\n",
    "del pf_eval_df\n",
    "del bdt_df\n",
    "del kine_df\n"
   ]
  },
  {
   "cell_type": "code",
   "execution_count": 3,
   "id": "f5ae0561-fe40-48b5-89da-b33f0a57d37c",
   "metadata": {},
   "outputs": [
    {
     "data": {
      "application/vnd.jupyter.widget-view+json": {
       "model_id": "c456c4e4229f45afae40279b181f8c11",
       "version_major": 2,
       "version_minor": 0
      },
      "text/plain": [
       "  0%|          | 0/93817 [00:00<?, ?it/s]"
      ]
     },
     "metadata": {},
     "output_type": "display_data"
    }
   ],
   "source": [
    "# adding truth primary particle nums, only for NC Delta\n",
    "\n",
    "num_protons_prim_35s = []\n",
    "\n",
    "truth_pdgs = nc_delta_df[\"truth_pdg\"].to_numpy()\n",
    "truth_mothers = nc_delta_df[\"truth_mother\"].to_numpy()\n",
    "truth_startMomentums = nc_delta_df[\"truth_startMomentum\"].to_numpy()\n",
    "\n",
    "for i in tqdm(range(nc_delta_df.shape[0])):\n",
    "\n",
    "    num_protons_prim_35 = 0\n",
    "    \n",
    "    max_pion_true_kinetic_energy = 0\n",
    "    max_proton_true_kinetic_energy = 0\n",
    "    \n",
    "    truth_pdg_list = truth_pdgs[i]\n",
    "    truth_mother_list = truth_mothers[i]\n",
    "    truth_startMomentum_list = truth_startMomentums[i]\n",
    "\n",
    "    for j in range(len(truth_pdg_list)):\n",
    "        if truth_mother_list[j] == 0 and truth_pdg_list[j] == 2212: # primary proton\n",
    "            proton_kinetic_energy = 1000. * truth_startMomentum_list[j][3] - 938.272\n",
    "            if proton_kinetic_energy > 35.:\n",
    "                num_protons_prim_35 += 1\n",
    "\n",
    "    num_protons_prim_35s.append(num_protons_prim_35)\n",
    "\n",
    "nc_delta_df[\"num_protons_prim_35\"] = num_protons_prim_35s\n"
   ]
  },
  {
   "cell_type": "code",
   "execution_count": 4,
   "id": "4d0cd878-2472-469c-8fe7-582e5746d081",
   "metadata": {},
   "outputs": [
    {
     "data": {
      "application/vnd.jupyter.widget-view+json": {
       "model_id": "66552d5ed0404b9ea23c2aec33cec41c",
       "version_major": 2,
       "version_minor": 0
      },
      "text/plain": [
       "  0%|          | 0/93817 [00:00<?, ?it/s]"
      ]
     },
     "metadata": {},
     "output_type": "display_data"
    }
   ],
   "source": [
    "proton_nums = []\n",
    "track_nums = []\n",
    "energy_lists = nc_delta_df[\"kine_energy_particle\"].to_numpy()\n",
    "pdg_lists = nc_delta_df[\"kine_particle_type\"].to_numpy()\n",
    "for i in tqdm(range(nc_delta_df.shape[0])):\n",
    "    proton_num = 0\n",
    "    track_num = 0\n",
    "    energy_list = energy_lists[i]\n",
    "    pdg_list = pdg_lists[i]\n",
    "    for j in range(len(energy_list)):\n",
    "        if abs(pdg_list[j]) == 2212 and energy_list[j] > 35.:\n",
    "            proton_num += 1\n",
    "        if abs(pdg_list[j]) == 13 or abs(pdg_list[j]) == 211 and energy_list[j] > 10.: # see N_tracks at https://github.com/BNLIF/wcp-uboone-bdt/blob/main/inc/WCPLEEANA/cuts.h\n",
    "            track_num += 1\n",
    "    proton_nums.append(proton_num)\n",
    "    track_nums.append(track_num)\n",
    "nc_delta_df[\"num_protons\"] = proton_nums\n",
    "nc_delta_df[\"num_other_tracks\"] = track_nums\n"
   ]
  },
  {
   "cell_type": "code",
   "execution_count": 5,
   "id": "72cebf6a-ba5e-4232-acca-bead1b3ea7d5",
   "metadata": {},
   "outputs": [
    {
     "data": {
      "text/plain": [
       "2970"
      ]
     },
     "execution_count": 5,
     "metadata": {},
     "output_type": "execute_result"
    }
   ],
   "source": [
    "filtered_df = nc_delta_df.query(\"truth_NCDelta==1 and truth_isCC==0 and match_isFC==1 and 0 < kine_reco_Enu < 1500\" \n",
    "                                + \" and num_protons_prim_35 > 0\"\n",
    "                                + \" and nc_delta_score > 2.61 and reco_showerKE > 0 and num_protons > 0\")\n",
    "#filtered_df = nc_delta_df\n",
    "\n",
    "filtered_df.shape[0]\n"
   ]
  },
  {
   "cell_type": "code",
   "execution_count": 6,
   "id": "6ce9bd6d-d811-43b4-8aa4-34e0222045f8",
   "metadata": {},
   "outputs": [],
   "source": [
    "#filtered_df"
   ]
  },
  {
   "cell_type": "code",
   "execution_count": 7,
   "id": "e1031078-ae60-4d36-a96c-d6818afa1920",
   "metadata": {},
   "outputs": [
    {
     "name": "stdout",
     "output_type": "stream",
     "text": [
      "(2970,) (2970,) (2970,)\n"
     ]
    }
   ],
   "source": [
    "genie_all_weights = filtered_df[\"All_UBGenie\"].to_numpy()\n",
    "cv_weights = filtered_df[\"weight_cv\"].to_numpy()\n",
    "spline_weights = filtered_df[\"weight_spline\"].to_numpy()\n",
    "\n",
    "print(genie_all_weights.shape, cv_weights.shape, spline_weights.shape)"
   ]
  },
  {
   "cell_type": "code",
   "execution_count": 8,
   "id": "281297de-dd9e-4f45-8025-2f5aa0684c7e",
   "metadata": {},
   "outputs": [
    {
     "data": {
      "application/vnd.jupyter.widget-view+json": {
       "model_id": "705a3ed6b1314e5391295a0be410a164",
       "version_major": 2,
       "version_minor": 0
      },
      "text/plain": [
       "  0%|          | 0/600 [00:00<?, ?it/s]"
      ]
     },
     "metadata": {},
     "output_type": "display_data"
    }
   ],
   "source": [
    "total_genie_all_weights = []\n",
    "for i in tqdm(range(genie_all_weights[0].shape[0])): # looping over universes\n",
    "    total_weight = 0\n",
    "    for j in range(genie_all_weights.shape[0]): # looping over events\n",
    "        total_weight += genie_all_weights[j][i] * spline_weights[j]\n",
    "    total_genie_all_weights.append(total_weight)\n",
    "    \n",
    "total_cv_genie_weight = np.sum(cv_weights * spline_weights)\n"
   ]
  },
  {
   "cell_type": "code",
   "execution_count": 9,
   "id": "68ecd0c9-7901-41c7-8773-36a1a562e0b1",
   "metadata": {},
   "outputs": [
    {
     "data": {
      "image/png": "[encoded data removed]",
      "text/plain": [
       "<Figure size 720x504 with 1 Axes>"
      ]
     },
     "metadata": {
      "needs_background": "light"
     },
     "output_type": "display_data"
    }
   ],
   "source": [
    "plt.rcParams.update({'font.size': 18})\n",
    "\n",
    "plt.figure(figsize=(10, 7))\n",
    "plt.hist(total_genie_all_weights, bins=50, label=\"systematic variation values\")\n",
    "plt.axvline(total_cv_genie_weight, c=\"k\", label=\"CV value\")\n",
    "plt.xlabel(f\"sum of All_UBGenie weights for {cv_weights.shape[0]} true NC Delta events\")\n",
    "plt.ylabel(\"number of universes (600 total)\")\n",
    "plt.legend()\n",
    "plt.show()"
   ]
  },
  {
   "cell_type": "code",
   "execution_count": 10,
   "id": "67596f37-3e3c-4be9-b6b3-7c8d8cfe79da",
   "metadata": {},
   "outputs": [
    {
     "name": "stdout",
     "output_type": "stream",
     "text": [
      "from manual investigation of All_UBGenie weights in different universes for the run 1 NC Delta file:\n",
      "\n",
      "CV value:  2970.0\n",
      "variance:  10536628.75018813\n",
      "fractional variance:  1.1945072215066639\n"
     ]
    }
   ],
   "source": [
    "diffs = total_genie_all_weights - total_cv_genie_weight\n",
    "\n",
    "covariance = np.sum(diffs * diffs) / genie_all_weights[0].shape[0]\n",
    "\n",
    "print(\"from manual investigation of All_UBGenie weights in different universes for the run 1 NC Delta file:\\n\")\n",
    "\n",
    "print(\"CV value: \", total_cv_genie_weight)\n",
    "print(\"variance: \", covariance)\n",
    "print(\"fractional variance: \", covariance / (total_cv_genie_weight * total_cv_genie_weight))"
   ]
  },
  {
   "cell_type": "code",
   "execution_count": 11,
   "id": "1cc4b498-121e-4003-8c40-8143966905e4",
   "metadata": {},
   "outputs": [
    {
     "name": "stdout",
     "output_type": "stream",
     "text": [
      "[1.02296731 0.         0.         0.        ]\n"
     ]
    },
    {
     "data": {
      "image/png": "[encoded data removed]",
      "text/plain": [
       "<Figure size 720x504 with 1 Axes>"
      ]
     },
     "metadata": {
      "needs_background": "light"
     },
     "output_type": "display_data"
    }
   ],
   "source": [
    "import uproot as uproot\n",
    "\n",
    "f_cov = uproot.open(f\"~/wc_framework/LEEana/hist_rootfiles/XsFlux/cov_17.root\")\n",
    "\n",
    "frac_cov_mat = f_cov[f\"frac_cov_xf_mat_17\"].member(\"fElements\")\n",
    "frac_cov_mat = frac_cov_mat.reshape((4, 4))\n",
    "\n",
    "diagonal_fractional_variances = []\n",
    "for i in range(4):\n",
    "    diagonal_fractional_variances.append(frac_cov_mat[i,i])\n",
    "\n",
    "    \n",
    "print(np.nan_to_num(np.array(diagonal_fractional_variances)))\n",
    "    \n",
    "lw = 4\n",
    "plt.rcParams.update({'font.size': 12})\n",
    "plt.figure(figsize=(10,7))\n",
    "plt.hist([_+0.5 for _ in range(4)], weights=np.nan_to_num(np.array(diagonal_fractional_variances[:12])), \n",
    "         bins=4, range=(0, 4), histtype=\"step\", lw=lw, label=\"XS Uncertainty\")\n",
    "plt.xlabel(\"bin number\")\n",
    "plt.ylabel(\"Fractional Variance\")\n",
    "plt.legend()\n",
    "plt.show()\n",
    "\n"
   ]
  },
  {
   "cell_type": "code",
   "execution_count": null,
   "id": "e87033b1-5613-4d23-a42b-5bf5eb7bf920",
   "metadata": {},
   "outputs": [],
   "source": []
  }
 ],
 "metadata": {
  "kernelspec": {
   "display_name": "Python 3 (ipykernel)",
   "language": "python",
   "name": "python3"
  },
  "language_info": {
   "codemirror_mode": {
    "name": "ipython",
    "version": 3
   },
   "file_extension": ".py",
   "mimetype": "text/x-python",
   "name": "python",
   "nbconvert_exporter": "python",
   "pygments_lexer": "ipython3",
   "version": "3.7.7"
  }
 },
 "nbformat": 4,
 "nbformat_minor": 5
}
