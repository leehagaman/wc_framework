{
 "cells": [
  {
   "cell_type": "code",
   "execution_count": 1,
   "id": "000408f3-3c6c-4663-8645-c81c304e00d7",
   "metadata": {},
   "outputs": [],
   "source": [
    "import numpy as np\n",
    "import uproot as uproot\n",
    "\n",
    "import matplotlib.pyplot as plt"
   ]
  },
  {
   "cell_type": "code",
   "execution_count": 2,
   "id": "4c0b30a3-5f74-40ab-9ddb-49667de17f07",
   "metadata": {},
   "outputs": [
    {
     "name": "stdout",
     "output_type": "stream",
     "text": [
      "mat_collapse;1\n",
      "cov_mat_add;1\n",
      "histo_1;1\n",
      "histo_19;1\n",
      "histo_3;1\n",
      "histo_2;1\n",
      "histo_4;1\n",
      "histo_20;1\n",
      "histo_6;1\n",
      "histo_5;1\n",
      "histo_7;1\n",
      "histo_21;1\n",
      "histo_9;1\n",
      "histo_8;1\n",
      "histo_10;1\n",
      "histo_22;1\n",
      "histo_12;1\n",
      "histo_11;1\n",
      "histo_13;1\n",
      "histo_23;1\n",
      "histo_15;1\n",
      "histo_14;1\n",
      "histo_16;1\n",
      "histo_24;1\n",
      "histo_18;1\n",
      "histo_17;1\n",
      "hdata_obsch_1;1\n",
      "hmc_obsch_1;1\n",
      "hdata_obsch_2;1\n",
      "hmc_obsch_2;1\n",
      "hdata_obsch_3;1\n",
      "hmc_obsch_3;1\n",
      "hdata_obsch_4;1\n",
      "hmc_obsch_4;1\n",
      "hdata_obsch_5;1\n",
      "hmc_obsch_5;1\n",
      "hdata_obsch_6;1\n",
      "hmc_obsch_6;1\n"
     ]
    }
   ],
   "source": [
    "f = uproot.open(f\"../TLee_Np0p/data_inputs/merge.root\")\n",
    "#f = uproot.open(\"../LEEana/merge.root\")\n",
    "for k in f.keys():\n",
    "    print(k)\n"
   ]
  },
  {
   "cell_type": "code",
   "execution_count": 3,
   "id": "7d9fd07d-fee6-4774-86be-c8d6294f1889",
   "metadata": {},
   "outputs": [],
   "source": [
    "all_mc_preds = []\n",
    "is_sig = []\n",
    "\n",
    "for i in range(1, 25): # 1-18 are uncollapsed mc predictions, 19-24 are ext predictions\n",
    "    #print(i, f[f\"histo_{i}\"].to_numpy(flow=True)[0][1:])\n",
    "    current_preds = list(f[f\"histo_{i}\"].to_numpy(flow=True)[0][1:])\n",
    "    all_mc_preds += current_preds # get the overflow bin only\n",
    "    \n",
    "    for _ in range(len(current_preds)):\n",
    "        if i % 3 == 1:\n",
    "            is_sig.append(False)\n",
    "        else:\n",
    "            is_sig.append(True)\n",
    "\n",
    "#print(6*2+16*12)\n",
    "#print(len(all_mc_preds))\n",
    "#print(all_mc_preds)\n",
    "#print(is_sig)\n"
   ]
  },
  {
   "cell_type": "code",
   "execution_count": 4,
   "id": "1b6ad10b-e1da-44a7-a681-cdbf3db21910",
   "metadata": {},
   "outputs": [],
   "source": [
    "#all_mc_preds"
   ]
  },
  {
   "cell_type": "code",
   "execution_count": 5,
   "id": "5ac07bb6-a45c-4ad1-beb3-7ab982442785",
   "metadata": {},
   "outputs": [],
   "source": [
    "all_mc_sig_preds = []\n",
    "\n",
    "for i in range(len(all_mc_preds)):\n",
    "    if is_sig[i]:\n",
    "        all_mc_sig_preds.append(all_mc_preds[i])\n",
    "    else:\n",
    "        all_mc_sig_preds.append(0.)\n",
    "\n",
    "#all_mc_sig_preds\n"
   ]
  },
  {
   "cell_type": "code",
   "execution_count": 6,
   "id": "b1982d9b-a72f-43ae-aff5-4f1ee70e2233",
   "metadata": {},
   "outputs": [
    {
     "name": "stdout",
     "output_type": "stream",
     "text": [
      "float num_true_signal_uncollapsed[6*2+16*12] = {\n",
      "  0.0, 0.0, 2.644611, 0.000343, 0.673658, 0.0, // 1gNp and overflow, background, then Np sig, then 0p sig\n",
      "  0.0, 0.0, 1.682415, 0.0, 7.545532, 0.0, // 1g0p\n",
      "  0.0, 0.0, 0.0, 0.0, 0.0, 0.0, 0.0, 0.0, 0.0, 0.0, 0.0, 0.0, 0.0, 0.0, 0.0, 0.0, // NC Pi0 Np with overflow, background\n",
      "  0.0, 0.007581, 0.301092, 0.915457, 1.216862, 0.943092, 0.705134, 0.442833, 0.27205, 0.16602, 0.109717, 0.05772, 0.043725, 0.031384, 0.01067, 0.025455, // NC Pi0 Np with overflow, Np sig\n",
      "  0.0, 0.004736, 0.126005, 0.225691, 0.232783, 0.175976, 0.118599, 0.079376, 0.055884, 0.020959, 0.018903, 0.008332, 0.007212, 0.007277, 0.001588, 0.003381, // NC Pi0 Np with overflow, 0p sig\n",
      "  0.0, 0.0, 0.0, 0.0, 0.0, 0.0, 0.0, 0.0, 0.0, 0.0, 0.0, 0.0, 0.0, 0.0, 0.0, 0.0, // NC Pi0 0p with overflow, background\n",
      "  0.0, 0.085884, 0.754236, 0.821747, 0.6168, 0.429712, 0.249044, 0.138809, 0.073667, 0.032466, 0.015823, 0.012726, 0.00759, 0.003995, 0.002124, 0.001004, // NC Pi0 0p with overflow, Np sig\n",
      "  0.0, 0.315534, 1.423453, 1.225524, 0.859233, 0.449364, 0.228664, 0.119037, 0.05052, 0.024253, 0.014229, 0.01067, 0.003947, 0.001939, 0.000935, 0.000536, // NC Pi0 0p with overflow, 0p sig\n",
      "  0.0, 0.0, 0.0, 0.0, 0.0, 0.0, 0.0, 0.0, 0.0, 0.0, 0.0, 0.0, 0.0, 0.0, 0.0, 0.0, // numuCC Np with overflow, background\n",
      "  0.0, 0.0, 0.000935, 0.02213, 0.057373, 0.09009, 0.101077, 0.095272, 0.090972, 0.076396, 0.052182, 0.043912, 0.041074, 0.020143, 0.012091, 0.023455, // numuCC Np with overflow, Np sig\n",
      "  0.0, 0.0, 0.000536, 0.006925, 0.017063, 0.021858, 0.026183, 0.01784, 0.016127, 0.011606, 0.009666, 0.007745, 0.003342, 0.003801, 0.000468, 0.005037, // numuCC Np with overflow, 0p sig\n",
      "  0.0, 0.0, 0.0, 0.0, 0.0, 0.0, 0.0, 0.0, 0.0, 0.0, 0.0, 0.0, 0.0, 0.0, 0.0, 0.0, // numuCC 0p with overflow, background\n",
      "  0.0, 0.0, 0.003265, 0.027962, 0.059328, 0.067674, 0.060308, 0.052051, 0.036982, 0.036833, 0.021614, 0.009714, 0.011606, 0.007795, 0.002523, 0.008174, // numuCC 0p with overflow, Np sig\n",
      "  0.0, 0.000468, 0.02352, 0.04728, 0.066435, 0.067755, 0.065967, 0.049516, 0.029441, 0.017715, 0.013262, 0.009452, 0.005088, 0.002592, 0.000935, 0.001939, // numuCC 0p with overflow, 0p sig\n",
      "};\n"
     ]
    }
   ],
   "source": [
    "precision = 6\n",
    "\n",
    "s = \"float num_true_signal_uncollapsed[6*2+16*12] = {\\n  \"\n",
    "for x in all_mc_sig_preds[:6]:\n",
    "    s += f\"{str(round(x, precision))}, \"\n",
    "s += \"// 1gNp and overflow, background, then Np sig, then 0p sig\\n  \"\n",
    "\n",
    "for x in all_mc_sig_preds[6:12]:\n",
    "    s += f\"{str(round(x, precision))}, \"\n",
    "s += \"// 1g0p\\n  \"\n",
    "\n",
    "\n",
    "for x in all_mc_sig_preds[12:28]:\n",
    "    s += f\"{str(round(x, precision))}, \"\n",
    "s += \"// NC Pi0 Np with overflow, background\\n  \"\n",
    "\n",
    "for x in all_mc_sig_preds[28:44]:\n",
    "    s += f\"{str(round(x, precision))}, \"\n",
    "s += \"// NC Pi0 Np with overflow, Np sig\\n  \"\n",
    "\n",
    "for x in all_mc_sig_preds[44:60]:\n",
    "    s += f\"{str(round(x, precision))}, \"\n",
    "s += \"// NC Pi0 Np with overflow, 0p sig\\n  \"\n",
    "\n",
    "for x in all_mc_sig_preds[60:76]:\n",
    "    s += f\"{str(round(x, precision))}, \"\n",
    "s += \"// NC Pi0 0p with overflow, background\\n  \"\n",
    "\n",
    "for x in all_mc_sig_preds[76:92]:\n",
    "    s += f\"{str(round(x, precision))}, \"\n",
    "s += \"// NC Pi0 0p with overflow, Np sig\\n  \"\n",
    "\n",
    "for x in all_mc_sig_preds[92:108]:\n",
    "    s += f\"{str(round(x, precision))}, \"\n",
    "s += \"// NC Pi0 0p with overflow, 0p sig\\n  \"\n",
    "\n",
    "\n",
    "for x in all_mc_sig_preds[108:124]:\n",
    "    s += f\"{str(round(x, precision))}, \"\n",
    "s += \"// numuCC Np with overflow, background\\n  \"\n",
    "\n",
    "for x in all_mc_sig_preds[124:140]:\n",
    "    s += f\"{str(round(x, precision))}, \"\n",
    "s += \"// numuCC Np with overflow, Np sig\\n  \"\n",
    "\n",
    "for x in all_mc_sig_preds[140:156]:\n",
    "    s += f\"{str(round(x, precision))}, \"\n",
    "s += \"// numuCC Np with overflow, 0p sig\\n  \"\n",
    "\n",
    "for x in all_mc_sig_preds[156:172]:\n",
    "    s += f\"{str(round(x, precision))}, \"\n",
    "s += \"// numuCC 0p with overflow, background\\n  \"\n",
    "\n",
    "for x in all_mc_sig_preds[172:188]:\n",
    "    s += f\"{str(round(x, precision))}, \"\n",
    "s += \"// numuCC 0p with overflow, Np sig\\n  \"\n",
    "\n",
    "for x in all_mc_sig_preds[188:204]:\n",
    "    s += f\"{str(round(x, precision))}, \"\n",
    "s += \"// numuCC 0p with overflow, 0p sig\\n};\"\n",
    "\n",
    "print(s)"
   ]
  },
  {
   "cell_type": "code",
   "execution_count": 7,
   "id": "7f593af8-ed07-4aab-b7d3-68c8556948c2",
   "metadata": {},
   "outputs": [],
   "source": [
    "# still need to add ext zeros at the end!"
   ]
  },
  {
   "cell_type": "code",
   "execution_count": 8,
   "id": "912e17fa-9feb-4f24-b9dc-8a15245e71ec",
   "metadata": {},
   "outputs": [
    {
     "data": {
      "text/plain": [
       "'f_xs_cov = uproot.open(\"../TLee_Np0p/data_inputs/hist_rootfiles/XsFlux/cov_17.root\")\\nf_xs_cov.keys()\\n\\ncov_mat_frac = f_xs_cov[\"frac_cov_xf_mat_17\"].member(\"fElements\")\\n#print(cov_mat_frac.shape, 272*272)\\ncov_mat_frac = cov_mat_frac.reshape((272, 272))\\n\\ncov_mat = f_xs_cov[\"cov_xf_mat_17\"].member(\"fElements\")\\n#print(cov_mat.shape, 272*272)\\ncov_mat = cov_mat.reshape((272, 272))\\n\\nplt.figure(figsize=(10,10))\\nplt.imshow(cov_mat_frac)\\nplt.colorbar()\\nplt.title(\"Xs cov mat frac\")\\nplt.show()\\n\\nplt.figure(figsize=(10,10))\\nplt.imshow(cov_mat)\\nplt.colorbar()\\nplt.title(\"Xs cov mat\")\\nplt.show()'"
      ]
     },
     "execution_count": 8,
     "metadata": {},
     "output_type": "execute_result"
    }
   ],
   "source": [
    "\"\"\"f_xs_cov = uproot.open(\"../TLee_Np0p/data_inputs/hist_rootfiles/XsFlux/cov_17.root\")\n",
    "f_xs_cov.keys()\n",
    "\n",
    "cov_mat_frac = f_xs_cov[\"frac_cov_xf_mat_17\"].member(\"fElements\")\n",
    "#print(cov_mat_frac.shape, 272*272)\n",
    "cov_mat_frac = cov_mat_frac.reshape((272, 272))\n",
    "\n",
    "cov_mat = f_xs_cov[\"cov_xf_mat_17\"].member(\"fElements\")\n",
    "#print(cov_mat.shape, 272*272)\n",
    "cov_mat = cov_mat.reshape((272, 272))\n",
    "\n",
    "plt.figure(figsize=(10,10))\n",
    "plt.imshow(cov_mat_frac)\n",
    "plt.colorbar()\n",
    "plt.title(\"Xs cov mat frac\")\n",
    "plt.show()\n",
    "\n",
    "plt.figure(figsize=(10,10))\n",
    "plt.imshow(cov_mat)\n",
    "plt.colorbar()\n",
    "plt.title(\"Xs cov mat\")\n",
    "plt.show()\"\"\"\n"
   ]
  },
  {
   "cell_type": "code",
   "execution_count": 9,
   "id": "a9460b75-a219-4f61-9967-506541557ca0",
   "metadata": {},
   "outputs": [
    {
     "name": "stdout",
     "output_type": "stream",
     "text": [
      "['vec_mean_18;1', 'cov_xf_mat_18;1', 'frac_cov_xf_mat_18;1', 'pred_covch_1;1', 'pred_covch_2;1', 'pred_covch_3;1', 'pred_covch_4;1', 'pred_covch_5;1', 'pred_covch_6;1', 'pred_covch_7;1', 'pred_covch_8;1', 'pred_covch_9;1', 'pred_covch_10;1', 'pred_covch_11;1', 'pred_covch_12;1', 'pred_covch_13;1', 'pred_covch_14;1', 'pred_covch_15;1', 'pred_covch_16;1', 'pred_covch_17;1', 'pred_covch_18;1']\n"
     ]
    },
    {
     "data": {
      "image/png": "[encoded data removed]",
      "text/plain": [
       "<Figure size 720x720 with 2 Axes>"
      ]
     },
     "metadata": {
      "needs_background": "light"
     },
     "output_type": "display_data"
    },
    {
     "data": {
      "image/png": "[encoded data removed]",
      "text/plain": [
       "<Figure size 720x720 with 2 Axes>"
      ]
     },
     "metadata": {
      "needs_background": "light"
     },
     "output_type": "display_data"
    },
    {
     "name": "stdout",
     "output_type": "stream",
     "text": [
      "bin number   type                       total prediction    vec_mean          Xs cov diagonal value\n",
      "0            1gNp, MC bkg               31.14474            31.82608414       8.150961692609133\n",
      "1            1gNp, MC bkg               0.0                 0.0               0.0\n",
      "2            1gNp, Np sig               2.644611            0.1498774         0.0029441663853783844\n",
      "3            1gNp, Np sig               0.00034276984       0.0               0.0\n",
      "4            1gNp, 0p sig               0.6736585           0.04060074        0.00021605417506563273\n",
      "5            1gNp, 0p sig               0.0                 0.0               0.0\n",
      "6            1g0p, MC bkg               102.03713           102.23643494      55.156591191442246\n",
      "7            1g0p, MC bkg               0.0                 0.0               0.0\n",
      "8            1g0p, Np sig               1.6824147           0.12041803        3.938007252832225e-05\n",
      "9            1g0p, Np sig               0.0                 0.0               0.0\n",
      "10           1g0p, 0p sig               7.5455327           0.60870516        0.0010062510975362708\n",
      "11           1g0p, 0p sig               0.0                 0.0               0.0\n",
      "12           NC Pi0 Np, bkg             0.0                 0.0               0.0\n",
      "13           NC Pi0 Np, bkg             5.612773            5.61277628        0.23100838078154975\n",
      "14           NC Pi0 Np, bkg             100.64296           100.64311218      873.1705586820459\n",
      "15           NC Pi0 Np, bkg             256.17612           256.17556763      3072.310184497518\n",
      "16           NC Pi0 Np, bkg             361.13358           361.41162109      2605.2144207887045\n",
      "17           NC Pi0 Np, bkg             317.74808           317.74649048      1550.1775977903558\n",
      "18           NC Pi0 Np, bkg             291.10767           291.10708618      743.8340375888304\n",
      "19           NC Pi0 Np, bkg             213.46065           213.80148315      327.09057814249314\n"
     ]
    }
   ],
   "source": [
    "idx = 18\n",
    "\n",
    "f_xs_cov = uproot.open(f\"../TLee_Np0p/data_inputs/hist_rootfiles/XsFlux/cov_{idx}.root\")\n",
    "#f_xs_cov = uproot.open(f\"../LEEana/hist_rootfiles/XsFlux/cov_{idx}.root\")\n",
    "print(f_xs_cov.keys())\n",
    "\n",
    "cov_mat_frac = f_xs_cov[f\"frac_cov_xf_mat_{idx}\"].member(\"fElements\")\n",
    "#print(cov_mat_frac.shape, 272*272)\n",
    "cov_mat_frac = cov_mat_frac.reshape((272, 272))\n",
    "\n",
    "cov_mat = f_xs_cov[f\"cov_xf_mat_{idx}\"].member(\"fElements\")\n",
    "#print(cov_mat.shape, 272*272)\n",
    "cov_mat = cov_mat.reshape((272, 272))\n",
    "\n",
    "vec_mean = f_xs_cov[f\"vec_mean_{idx}\"].member(\"fElements\")\n",
    "\n",
    "plt.figure(figsize=(10,10))\n",
    "plt.imshow(cov_mat_frac, origin=\"lower\")\n",
    "plt.colorbar()\n",
    "plt.title(\"Xs cov mat frac\")\n",
    "plt.show()\n",
    "\n",
    "plt.figure(figsize=(10,10))\n",
    "plt.imshow(cov_mat, origin=\"lower\")\n",
    "plt.colorbar()\n",
    "plt.title(\"Xs cov mat\")\n",
    "plt.show()\n",
    "\n",
    "print(\"bin number   type                       total prediction    vec_mean          Xs cov diagonal value\")\n",
    "\n",
    "for i in range(20):\n",
    "    #for i in range(272):\n",
    "    s = str(i)\n",
    "    \n",
    "    s = s.ljust(13)\n",
    "    \n",
    "    if   i < 2: s += \"1gNp, MC bkg\"\n",
    "    elif i < 4: s += \"1gNp, Np sig\"\n",
    "    elif i < 6: s += \"1gNp, 0p sig\"\n",
    "    elif i < 8: s += \"1g0p, MC bkg\"\n",
    "    elif i < 10: s += \"1g0p, Np sig\"\n",
    "    elif i < 12: s += \"1g0p, 0p sig\"\n",
    "    elif i < 12 + 1*16: s += \"NC Pi0 Np, bkg\"\n",
    "    elif i < 12 + 2*16: s += \"NC Pi0 Np, Np sig\"\n",
    "    elif i < 12 + 3*16: s += \"NC Pi0 Np, 0p sig\"\n",
    "    elif i < 12 + 4*16: s += \"NC Pi0 0p, bkg\"\n",
    "    elif i < 12 + 5*16: s += \"NC Pi0 0p, Np sig\"\n",
    "    elif i < 12 + 6*16: s += \"NC Pi0 0p, 0p sig\"\n",
    "    elif i < 12 + 7*16: s += \"numuCC Np bkg\"\n",
    "    elif i < 12 + 8*16: s += \"numuCC Np, Np sig\"\n",
    "    elif i < 12 + 9*16: s += \"numuCC Np, 0p sig\"\n",
    "    elif i < 12 + 10*16: s += \"numuCC 0p, bkg\"\n",
    "    elif i < 12 + 11*16: s += \"numuCC 0p, Np sig\"\n",
    "    elif i < 12 + 12*16: s += \"numuCC 0p, 0p sig\"\n",
    "    elif i < 12 + 12*16 + 2: s += \"1gNp, EXT bkg\"\n",
    "    elif i < 12 + 12*16 + 4: s += \"1g0p, EXT bkg\"\n",
    "    elif i < 12 + 12*16 + 4 + 1*16: s += \"NC Pi0 Np, EXT bkg\"\n",
    "    elif i < 12 + 12*16 + 4 + 2*16: s += \"NC Pi0 0p, EXT bkg\"\n",
    "    elif i < 12 + 12*16 + 4 + 3*16: s += \"numuCC Np, EXT bkg\"\n",
    "    elif i < 12 + 12*16 + 4 + 4*16: s += \"numuCC 0p, EXT bkg\"\n",
    "    \n",
    "    s = s.ljust(40)\n",
    "    \n",
    "    s += str(all_mc_preds[i])\n",
    "    \n",
    "    s = s.ljust(60)\n",
    "    \n",
    "    s += str(round(vec_mean[i], 8))\n",
    "    \n",
    "    s = s.ljust(78)\n",
    "    \n",
    "    s += str(cov_mat[i][i])\n",
    "    \n",
    "    print(s)\n",
    "\n"
   ]
  },
  {
   "cell_type": "code",
   "execution_count": 10,
   "id": "3d80d526-1b34-4c13-8480-91edf1f4f6fc",
   "metadata": {},
   "outputs": [
    {
     "name": "stdout",
     "output_type": "stream",
     "text": [
      "['vec_mean_19;1', 'cov_xf_mat_19;1', 'frac_cov_xf_mat_19;1', 'pred_covch_1;1', 'pred_covch_2;1', 'pred_covch_3;1', 'pred_covch_4;1', 'pred_covch_5;1', 'pred_covch_6;1', 'pred_covch_7;1', 'pred_covch_8;1', 'pred_covch_9;1', 'pred_covch_10;1', 'pred_covch_11;1', 'pred_covch_12;1', 'pred_covch_13;1', 'pred_covch_14;1', 'pred_covch_15;1', 'pred_covch_16;1', 'pred_covch_17;1', 'pred_covch_18;1']\n"
     ]
    },
    {
     "data": {
      "image/png": "[encoded data removed]",
      "text/plain": [
       "<Figure size 720x720 with 2 Axes>"
      ]
     },
     "metadata": {
      "needs_background": "light"
     },
     "output_type": "display_data"
    },
    {
     "data": {
      "image/png": "[encoded data removed]",
      "text/plain": [
       "<Figure size 720x720 with 2 Axes>"
      ]
     },
     "metadata": {
      "needs_background": "light"
     },
     "output_type": "display_data"
    },
    {
     "name": "stdout",
     "output_type": "stream",
     "text": [
      "bin number   type                       total prediction    vec_mean          Xs cov diagonal value\n",
      "0            1gNp, MC bkg               31.14474            31.82608414       55.955684661865234\n",
      "1            1gNp, MC bkg               0.0                 0.0               0.0\n",
      "2            1gNp, Np sig               2.644611            0.1498774         0.0029850066639482975\n",
      "3            1gNp, Np sig               0.00034276984       0.0               0.0\n",
      "4            1gNp, 0p sig               0.6736585           0.04060074        0.00021904785535298288\n",
      "5            1gNp, 0p sig               0.0                 0.0               0.0\n",
      "6            1g0p, MC bkg               102.03713           102.23643494      10.28457260131836\n",
      "7            1g0p, MC bkg               0.0                 0.0               0.0\n",
      "8            1g0p, Np sig               1.6824147           0.12041803        4.1886411054292694e-05\n",
      "9            1g0p, Np sig               0.0                 0.0               0.0\n",
      "10           1g0p, 0p sig               7.5455327           0.60870516        0.0010702961590141058\n",
      "11           1g0p, 0p sig               0.0                 0.0               0.0\n",
      "12           NC Pi0 Np, bkg             0.0                 0.0               0.0\n",
      "13           NC Pi0 Np, bkg             5.612773            5.61277628        0.1800234168767929\n",
      "14           NC Pi0 Np, bkg             100.64296           100.64311218      1662.2908935546875\n",
      "15           NC Pi0 Np, bkg             256.17612           256.17556763      9960.521484375\n",
      "16           NC Pi0 Np, bkg             361.13358           361.38604736      14169.541015625\n",
      "17           NC Pi0 Np, bkg             317.74808           317.72091675      9951.8193359375\n",
      "18           NC Pi0 Np, bkg             291.10767           291.10708618      5466.9921875\n",
      "19           NC Pi0 Np, bkg             213.46065           213.80148315      1753.1904296875\n"
     ]
    }
   ],
   "source": [
    "idx = 19\n",
    "\n",
    "f_xs_cov = uproot.open(f\"../TLee_Np0p/data_inputs/hist_rootfiles/XsFlux/cov_{idx}.root\")\n",
    "#f_xs_cov = uproot.open(f\"../LEEana/hist_rootfiles/XsFlux/cov_{idx}.root\")\n",
    "print(f_xs_cov.keys())\n",
    "\n",
    "cov_mat_frac = f_xs_cov[f\"frac_cov_xf_mat_{idx}\"].member(\"fElements\")\n",
    "#print(cov_mat_frac.shape, 272*272)\n",
    "cov_mat_frac = cov_mat_frac.reshape((272, 272))\n",
    "\n",
    "cov_mat = f_xs_cov[f\"cov_xf_mat_{idx}\"].member(\"fElements\")\n",
    "#print(cov_mat.shape, 272*272)\n",
    "cov_mat = cov_mat.reshape((272, 272))\n",
    "\n",
    "vec_mean = f_xs_cov[f\"vec_mean_{idx}\"].member(\"fElements\")\n",
    "\n",
    "plt.figure(figsize=(10,10))\n",
    "plt.imshow(cov_mat_frac, origin=\"lower\")\n",
    "plt.colorbar()\n",
    "plt.title(\"Xs cov mat frac\")\n",
    "plt.show()\n",
    "\n",
    "plt.figure(figsize=(10,10))\n",
    "plt.imshow(cov_mat, origin=\"lower\")\n",
    "plt.colorbar()\n",
    "plt.title(\"Xs cov mat\")\n",
    "plt.show()\n",
    "\n",
    "print(\"bin number   type                       total prediction    vec_mean          Xs cov diagonal value\")\n",
    "\n",
    "for i in range(20):\n",
    "    #for i in range(272):\n",
    "    s = str(i)\n",
    "    \n",
    "    s = s.ljust(13)\n",
    "    \n",
    "    if   i < 2: s += \"1gNp, MC bkg\"\n",
    "    elif i < 4: s += \"1gNp, Np sig\"\n",
    "    elif i < 6: s += \"1gNp, 0p sig\"\n",
    "    elif i < 8: s += \"1g0p, MC bkg\"\n",
    "    elif i < 10: s += \"1g0p, Np sig\"\n",
    "    elif i < 12: s += \"1g0p, 0p sig\"\n",
    "    elif i < 12 + 1*16: s += \"NC Pi0 Np, bkg\"\n",
    "    elif i < 12 + 2*16: s += \"NC Pi0 Np, Np sig\"\n",
    "    elif i < 12 + 3*16: s += \"NC Pi0 Np, 0p sig\"\n",
    "    elif i < 12 + 4*16: s += \"NC Pi0 0p, bkg\"\n",
    "    elif i < 12 + 5*16: s += \"NC Pi0 0p, Np sig\"\n",
    "    elif i < 12 + 6*16: s += \"NC Pi0 0p, 0p sig\"\n",
    "    elif i < 12 + 7*16: s += \"numuCC Np bkg\"\n",
    "    elif i < 12 + 8*16: s += \"numuCC Np, Np sig\"\n",
    "    elif i < 12 + 9*16: s += \"numuCC Np, 0p sig\"\n",
    "    elif i < 12 + 10*16: s += \"numuCC 0p, bkg\"\n",
    "    elif i < 12 + 11*16: s += \"numuCC 0p, Np sig\"\n",
    "    elif i < 12 + 12*16: s += \"numuCC 0p, 0p sig\"\n",
    "    elif i < 12 + 12*16 + 2: s += \"1gNp, EXT bkg\"\n",
    "    elif i < 12 + 12*16 + 4: s += \"1g0p, EXT bkg\"\n",
    "    elif i < 12 + 12*16 + 4 + 1*16: s += \"NC Pi0 Np, EXT bkg\"\n",
    "    elif i < 12 + 12*16 + 4 + 2*16: s += \"NC Pi0 0p, EXT bkg\"\n",
    "    elif i < 12 + 12*16 + 4 + 3*16: s += \"numuCC Np, EXT bkg\"\n",
    "    elif i < 12 + 12*16 + 4 + 4*16: s += \"numuCC 0p, EXT bkg\"\n",
    "    \n",
    "    s = s.ljust(40)\n",
    "    \n",
    "    s += str(all_mc_preds[i])\n",
    "    \n",
    "    s = s.ljust(60)\n",
    "    \n",
    "    s += str(round(vec_mean[i], 8))\n",
    "    \n",
    "    s = s.ljust(78)\n",
    "    \n",
    "    s += str(cov_mat[i][i])\n",
    "    \n",
    "    print(s)\n"
   ]
  },
  {
   "cell_type": "code",
   "execution_count": null,
   "id": "2d3a2e5c-176c-4da6-86ff-994835a82717",
   "metadata": {},
   "outputs": [],
   "source": []
  },
  {
   "cell_type": "code",
   "execution_count": null,
   "id": "fae44be9-ab00-4f8d-ba2e-61eb6ea9fb6a",
   "metadata": {},
   "outputs": [],
   "source": []
  }
 ],
 "metadata": {
  "kernelspec": {
   "display_name": "Python 3 (ipykernel)",
   "language": "python",
   "name": "python3"
  },
  "language_info": {
   "codemirror_mode": {
    "name": "ipython",
    "version": 3
   },
   "file_extension": ".py",
   "mimetype": "text/x-python",
   "name": "python",
   "nbconvert_exporter": "python",
   "pygments_lexer": "ipython3",
   "version": "3.7.7"
  }
 },
 "nbformat": 4,
 "nbformat_minor": 5
}
