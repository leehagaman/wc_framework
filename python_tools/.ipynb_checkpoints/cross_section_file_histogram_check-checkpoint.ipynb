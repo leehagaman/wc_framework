{
 "cells": [
  {
   "cell_type": "code",
   "execution_count": 1,
   "metadata": {},
   "outputs": [
    {
     "name": "stdout",
     "output_type": "stream",
     "text": [
      "1.3.0\n",
      "3.14.4\n"
     ]
    }
   ],
   "source": [
    "import xgboost as xgb\n",
    "import matplotlib as mpl\n",
    "import matplotlib.pyplot as plt\n",
    "import uproot3 as uproot\n",
    "import pandas as pd\n",
    "import numpy as np\n",
    "import math\n",
    "from tqdm import tqdm\n",
    "\n",
    "import pickle\n",
    "\n",
    "from matplotlib.ticker import (MultipleLocator, AutoMinorLocator)\n",
    "from IPython.display import display\n",
    "\n",
    "# should be xgboost v1.3.0, needs to be old in order to calculate the score correctly!\n",
    "# uproot can be any version 3 I think\n",
    "print(xgb.__version__)\n",
    "print(uproot.__version__)"
   ]
  },
  {
   "cell_type": "code",
   "execution_count": 2,
   "metadata": {},
   "outputs": [],
   "source": [
    "extra_variables = [\n",
    "    \"run\",\n",
    "    \"subrun\",\n",
    "    \"event\",\n",
    "    \"nuvtx_diff\",\n",
    "    \"showervtx_diff\",\n",
    "    \"muonvtx_diff\",\n",
    "    \"truth_isCC\",\n",
    "    \"truth_vtxInside\",\n",
    "    \"truth_nuPdg\",\n",
    "    \"truth_nuEnergy\",\n",
    "    \"truth_nuIntType\",\n",
    "    \"truth_energyInside\",\n",
    "    \"weight_spline\",\n",
    "    \"weight_cv\",\n",
    "    \"weight_lee\",\n",
    "    \"event_type\",\n",
    "    \"weight\",\n",
    "    \"lowEweight\"\n",
    "]\n",
    "\n",
    "numu_bdt_score_variables = [\n",
    "    \"cosmict_10_score\",\n",
    "    \"numu_1_score\",\n",
    "    \"numu_2_score\"\n",
    "]\n",
    "\n",
    "nue_bdt_score_variables = [\n",
    "    \"tro_5_score\",\n",
    "    \"tro_4_score\",\n",
    "    \"tro_2_score\",\n",
    "    \"tro_1_score\",\n",
    "    \"stw_4_score\",\n",
    "    \"stw_3_score\",\n",
    "    \"stw_2_score\",\n",
    "    \"sig_2_score\",\n",
    "    \"sig_1_score\",\n",
    "    \"pio_2_score\",\n",
    "    \"lol_2_score\",\n",
    "    \"lol_1_score\",\n",
    "    \"br3_6_score\",\n",
    "    \"br3_5_score\",\n",
    "    \"br3_3_score\"\n",
    "]\n",
    "\n",
    "kine_scalar_vars = [\n",
    "    \"kine_reco_add_energy\",\n",
    "    \"kine_pio_mass\",\n",
    "    \"kine_pio_flag\",\n",
    "    \"kine_pio_vtx_dis\",\n",
    "    \"kine_pio_energy_1\",\n",
    "    \"kine_pio_theta_1\",\n",
    "    \"kine_pio_phi_1\",\n",
    "    \"kine_pio_dis_1\",\n",
    "    \"kine_pio_energy_2\",\n",
    "    \"kine_pio_theta_2\",\n",
    "    \"kine_pio_phi_2\",\n",
    "    \"kine_pio_dis_2\",\n",
    "    \"kine_pio_angle\"\n",
    "]\n",
    "\n",
    "kine_vector_vars = [\n",
    "    \"kine_energy_particle\",\n",
    "    \"kine_energy_info\",\n",
    "    \"kine_particle_type\",\n",
    "    \"kine_energy_included\",\n",
    "]"
   ]
  },
  {
   "cell_type": "code",
   "execution_count": 3,
   "metadata": {},
   "outputs": [],
   "source": [
    "bdt_vars = [\n",
    "    \"nue_score\",\n",
    "    \"numu_score\",\n",
    "    \"numu_cc_flag\",\n",
    "    \"nc_delta_score\"\n",
    "]\n",
    "\n",
    "eval_mc_variables = [\n",
    "    \"run\",\n",
    "    \"subrun\",\n",
    "    \"event\",\n",
    "    \"flash_time\",\n",
    "    \"weight_spline\", # this and remaining only make sense for MC\n",
    "    \"weight_cv\",\n",
    "    \"match_completeness_energy\",\n",
    "    \"truth_nuEnergy\",\n",
    "    \"truth_energyInside\",\n",
    "    \"truth_electronInside\",\n",
    "    \"truth_nuPdg\",\n",
    "    \"truth_isCC\",\n",
    "    \"truth_isFC\",\n",
    "    \"truth_vtxInside\",\n",
    "    \"truth_vtxX\",\n",
    "    \"truth_vtxY\",\n",
    "    \"truth_vtxZ\",\n",
    "    \"truth_nuTime\",\n",
    "]\n",
    "\n",
    "eval_data_variables = [\n",
    "    \"run\",\n",
    "    \"subrun\",\n",
    "    \"event\",\n",
    "    \"flash_time\",\n",
    "]\n",
    "\n",
    "pf_eval_mc_variables = [\n",
    "    \"truth_NprimPio\",\n",
    "    \"truth_NCDelta\",\n",
    "    \"nuvtx_diff\",\n",
    "    \"showervtx_diff\",\n",
    "    \"reco_showerKE\",\n",
    "    \"truth_pio_energy_1\",\n",
    "    \"truth_pio_energy_2\",\n",
    "    \"reco_nuvtxX\",\n",
    "    \"reco_nuvtxY\",\n",
    "    \"reco_nuvtxZ\",\n",
    "    \"reco_pdg\",\n",
    "    \"reco_mother\",\n",
    "    \"reco_startMomentum\",\n",
    "]\n",
    "\n",
    "pf_eval_data_variables = [ # also use these for dirt\n",
    "    \"reco_showerKE\",\n",
    "    \"reco_nuvtxX\",\n",
    "    \"reco_nuvtxY\",\n",
    "    \"reco_nuvtxZ\",\n",
    "    \"reco_pdg\",\n",
    "    \"reco_mother\",\n",
    "    \"reco_startMomentum\"\n",
    "]\n",
    "\n",
    "pf_eval_data_variables_no_pf_info = [ # also use these for dirt\n",
    "    \"reco_showerKE\",\n",
    "    \"reco_nuvtxX\",\n",
    "    \"reco_nuvtxY\",\n",
    "    \"reco_nuvtxZ\",\n",
    "]\n",
    "\n",
    "dedicated_pf_eval_mc_variables = [\n",
    "    \"truth_pdg\", \n",
    "    \"truth_mother\", \n",
    "    \"truth_startMomentum\",\n",
    "    \"truth_startXYZT\",\n",
    "]\n"
   ]
  },
  {
   "cell_type": "code",
   "execution_count": 4,
   "metadata": {},
   "outputs": [],
   "source": [
    "# nc delta file, despite the intrinsic nue name\n",
    "\n",
    "f_intrinsic_nue_run1 = uproot.open(\"/data1/hagaman/xin_files/processed_checkout_rootfiles/prodgenie_bnb_nc_delta_overlay_run1_PF/UBGenieFluxSmallUni.root\")[\"wcpselection\"]\n",
    "f_intrinsic_nue_run1_bdt = f_intrinsic_nue_run1[\"T_BDTvars\"].pandas.df(bdt_vars, flatten=False)\n",
    "f_intrinsic_nue_run1_eval = f_intrinsic_nue_run1[\"T_eval\"].pandas.df(eval_mc_variables + [\"match_isFC\"], flatten=False)\n",
    "f_intrinsic_nue_run1_pfeval = f_intrinsic_nue_run1[\"T_PFeval\"].pandas.df(pf_eval_mc_variables + dedicated_pf_eval_mc_variables, flatten=False)\n",
    "f_intrinsic_nue_run1_kine = f_intrinsic_nue_run1[\"T_KINEvars\"].pandas.df(kine_scalar_vars + kine_vector_vars + [\"kine_reco_Enu\"], flatten=False)\n",
    "f_intrinsic_nue_run1_pot = f_intrinsic_nue_run1[\"T_pot\"].pandas.df(\"pot_tor875good\", flatten=False)\n",
    "intrinsic_nue_run1_POT = np.sum(f_intrinsic_nue_run1_pot[\"pot_tor875good\"].to_numpy())\n",
    "intrinsic_nue_run1_df = pd.concat([f_intrinsic_nue_run1_bdt, f_intrinsic_nue_run1_eval, f_intrinsic_nue_run1_pfeval, f_intrinsic_nue_run1_kine], axis=1, sort=False)\n",
    "del f_intrinsic_nue_run1\n",
    "del f_intrinsic_nue_run1_bdt\n",
    "del f_intrinsic_nue_run1_eval\n",
    "del f_intrinsic_nue_run1_pfeval\n",
    "del f_intrinsic_nue_run1_kine\n",
    "del f_intrinsic_nue_run1_pot\n",
    "intrinsic_nue_run1_df[\"isEXT\"] = [0 for i in range(intrinsic_nue_run1_df.shape[0])]\n",
    "intrinsic_nue_run1_df[\"isDirt\"] = [0 for i in range(intrinsic_nue_run1_df.shape[0])]\n",
    "intrinsic_nue_run1_df[\"WC_file\"] = [\"intrinsic_nue_run1\" for i in range(intrinsic_nue_run1_df.shape[0])]\n",
    "intrinsic_nue_run1_df[\"run_num\"] = [1 for i in range(intrinsic_nue_run1_df.shape[0])]\n",
    "\n",
    "\n",
    "all_df = intrinsic_nue_run1_df"
   ]
  },
  {
   "cell_type": "code",
   "execution_count": 5,
   "metadata": {},
   "outputs": [
    {
     "name": "stderr",
     "output_type": "stream",
     "text": [
      "100%|██████████████████████████████████| 40522/40522 [00:02<00:00, 15597.92it/s]\n"
     ]
    }
   ],
   "source": [
    "# adding truth primary particle nums, only for numu and nue\n",
    "\n",
    "num_prim_photons = []\n",
    "num_prim_protons = []\n",
    "num_prim_nonprim_protons = []\n",
    "num_prim_charged_pions = []\n",
    "num_prim_neutrons = []\n",
    "num_prim_electrons = []\n",
    "num_prim_muons = []\n",
    "num_prim_pi0s = []\n",
    "num_prim_others = []\n",
    "\n",
    "max_proton_true_kinetic_energies = []\n",
    "max_pion_true_kinetic_energies = []\n",
    "\n",
    "photon_thetas = []\n",
    "photon_phis = []\n",
    "photon_energies = []\n",
    "\n",
    "runnum = all_df[\"run_num\"].to_numpy()\n",
    "run = all_df[\"run\"].to_numpy()\n",
    "subrun = all_df[\"subrun\"].to_numpy()\n",
    "event = all_df[\"event\"].to_numpy()\n",
    "\n",
    "truth_pdgs = all_df[\"truth_pdg\"].to_numpy()\n",
    "truth_mothers = all_df[\"truth_mother\"].to_numpy()\n",
    "truth_startMomentums = all_df[\"truth_startMomentum\"].to_numpy()\n",
    "\n",
    "for i in tqdm(range(all_df.shape[0])):\n",
    "    #for i in tqdm(range(10)):\n",
    "    #print(\"new event\")\n",
    "\n",
    "    num_prim_nonprim_proton = 0\n",
    "    \n",
    "    truth_pdg_list = truth_pdgs[i]\n",
    "    truth_mother_list = truth_mothers[i]\n",
    "    truth_startMomentum_list = truth_startMomentums[i]\n",
    "\n",
    "    for j in range(len(truth_pdg_list)):\n",
    "        if truth_pdg_list[j] == 2212:\n",
    "            #print(truth_startMomentum_list[j][3] * 1000. - 938.272)\n",
    "            if truth_startMomentum_list[j][3] * 1000. - 938.272 > 35.:\n",
    "                num_prim_nonprim_proton += 1\n",
    "\n",
    "    num_prim_nonprim_protons.append(num_prim_nonprim_proton)\n",
    "\n",
    "all_df[\"num_prim_nonprim_protons\"] = num_prim_nonprim_protons\n"
   ]
  },
  {
   "cell_type": "code",
   "execution_count": 6,
   "metadata": {},
   "outputs": [
    {
     "name": "stderr",
     "output_type": "stream",
     "text": [
      "100%|█████████████████████████████████| 40522/40522 [00:00<00:00, 278748.02it/s]\n"
     ]
    }
   ],
   "source": [
    "normalizing_POT_run1 = 1.423e20\n",
    "normalizing_POT_run2 = 2.541e20\n",
    "normalizing_POT_run3 = 2.405e20\n",
    "\n",
    "weight_cv = all_df[\"weight_cv\"].to_numpy()\n",
    "weight_spline = all_df[\"weight_spline\"].to_numpy()\n",
    "is_ext = all_df[\"isEXT\"].to_numpy()\n",
    "is_dirt = all_df[\"isDirt\"].to_numpy()\n",
    "is_nc_delta = all_df[\"truth_NCDelta\"].to_numpy() # should give 0 for data (truth_NCDelta==NaN)\n",
    "is_CC = all_df[\"truth_isCC\"].to_numpy() # should give 0 for data (truth_isCC==NaN)\n",
    "num_pi0 = all_df[\"truth_NprimPio\"].to_numpy() # should give 0 for data (truth_NprimPio==NaN)\n",
    "truth_nuPdgs = all_df[\"truth_nuPdg\"].to_numpy()\n",
    "\n",
    "\n",
    "run_nums = all_df[\"run_num\"].to_numpy()\n",
    "WC_file_str = all_df[\"WC_file\"].to_numpy()\n",
    "net_weights = []\n",
    "for i in tqdm(range(len(weight_cv))):\n",
    "    weight_temp = weight_cv[i] * weight_spline[i]\n",
    "    if weight_temp <= 0. or weight_temp > 30. or np.isnan(weight_temp): # something went wrong with the saved weights\n",
    "        weight_temp = 1.\n",
    "        \n",
    "    net_weights.append(normalizing_POT_run1 / intrinsic_nue_run1_POT)\n",
    "            \n",
    "all_df[\"net_weight\"] = net_weights\n"
   ]
  },
  {
   "cell_type": "code",
   "execution_count": 7,
   "metadata": {},
   "outputs": [
    {
     "name": "stderr",
     "output_type": "stream",
     "text": [
      "100%|██████████████████████████████████| 40522/40522 [00:00<00:00, 55596.13it/s]\n"
     ]
    }
   ],
   "source": [
    "# adding proton and pion nums, adjusting em scale for reco_showerKE and kine_reco_Enu\n",
    "\n",
    "proton_nums = []\n",
    "track_nums = []\n",
    "energy_lists = all_df[\"kine_energy_particle\"].to_numpy()\n",
    "pdg_lists = all_df[\"kine_particle_type\"].to_numpy()\n",
    "for i in tqdm(range(all_df.shape[0])):\n",
    "    proton_num = 0\n",
    "    track_num = 0\n",
    "    energy_list = energy_lists[i]\n",
    "    pdg_list = pdg_lists[i]\n",
    "    for j in range(len(energy_list)):\n",
    "        if abs(pdg_list[j]) == 2212 and energy_list[j] > 35.:\n",
    "            proton_num += 1\n",
    "        if abs(pdg_list[j]) == 13 or abs(pdg_list[j]) == 211 and energy_list[j] > 10.: # see N_tracks at https://github.com/BNLIF/wcp-uboone-bdt/blob/main/inc/WCPLEEANA/cuts.h\n",
    "            track_num += 1\n",
    "    proton_nums.append(proton_num)\n",
    "    track_nums.append(track_num)\n",
    "all_df[\"num_protons\"] = proton_nums\n",
    "all_df[\"num_other_tracks\"] = track_nums\n"
   ]
  },
  {
   "cell_type": "code",
   "execution_count": 8,
   "metadata": {},
   "outputs": [],
   "source": [
    "sel_df = all_df.query(\"kine_reco_Enu > 0 and match_isFC==1 and nc_delta_score > 2.61 and num_protons > 0\")\n",
    "sel_Np_df = sel_df.query(\"num_prim_nonprim_protons > 0\")\n",
    "sel_0p_df = sel_df.query(\"num_prim_nonprim_protons == 0\")\n"
   ]
  },
  {
   "cell_type": "code",
   "execution_count": 9,
   "metadata": {},
   "outputs": [
    {
     "data": {
      "image/png": "[encoded data removed]",
      "text/plain": [
       "<Figure size 432x288 with 1 Axes>"
      ]
     },
     "metadata": {
      "needs_background": "light"
     },
     "output_type": "display_data"
    },
    {
     "data": {
      "image/png": "[encoded data removed]",
      "text/plain": [
       "<Figure size 432x288 with 1 Axes>"
      ]
     },
     "metadata": {
      "needs_background": "light"
     },
     "output_type": "display_data"
    }
   ],
   "source": [
    "plt.figure()\n",
    "plt.hist(sel_Np_df[\"kine_reco_Enu\"].to_numpy(), weights=sel_Np_df[\"net_weight\"].to_numpy(), range=(0, 1500), bins=15)\n",
    "plt.title(\"1gNp selection, true Np signal, prodgenie_bnb_nc_delta_overlay_run1_PF/UBGenieFluxSmallUni.root\")\n",
    "plt.xlabel(\"kine_reco_Enu (MeV)\")\n",
    "plt.show()\n",
    "\n",
    "plt.figure()\n",
    "plt.hist(sel_0p_df[\"kine_reco_Enu\"].to_numpy(), weights=sel_0p_df[\"net_weight\"].to_numpy(), range=(0, 1500), bins=15)\n",
    "plt.title(\"1gNp selection, true 0p signal, prodgenie_bnb_nc_delta_overlay_run1_PF/UBGenieFluxSmallUni.root\")\n",
    "plt.xlabel(\"kine_reco_Enu (MeV)\")\n",
    "plt.show()\n"
   ]
  },
  {
   "cell_type": "code",
   "execution_count": 11,
   "metadata": {},
   "outputs": [
    {
     "data": {
      "image/png": "[encoded data removed]",
      "text/plain": [
       "<Figure size 432x288 with 1 Axes>"
      ]
     },
     "metadata": {
      "needs_background": "light"
     },
     "output_type": "display_data"
    },
    {
     "data": {
      "image/png": "[encoded data removed]",
      "text/plain": [
       "<Figure size 432x288 with 1 Axes>"
      ]
     },
     "metadata": {
      "needs_background": "light"
     },
     "output_type": "display_data"
    }
   ],
   "source": [
    "plt.figure()\n",
    "plt.hist(sel_Np_df[\"truth_energyInside\"].to_numpy(), weights=sel_Np_df[\"net_weight\"].to_numpy(), range=(0, 1500), bins=15)\n",
    "plt.title(\"1gNp selection, true Np signal, prodgenie_bnb_nc_delta_overlay_run1_PF/UBGenieFluxSmallUni.root\")\n",
    "plt.xlabel(\"truth_energyInside (MeV)\")\n",
    "plt.show()\n",
    "\n",
    "plt.figure()\n",
    "plt.hist(sel_0p_df[\"truth_energyInside\"].to_numpy(), weights=sel_0p_df[\"net_weight\"].to_numpy(), range=(0, 1500), bins=15)\n",
    "plt.title(\"1gNp selection, true 0p signal, prodgenie_bnb_nc_delta_overlay_run1_PF/UBGenieFluxSmallUni.root\")\n",
    "plt.xlabel(\"truth_energyInside (MeV)\")\n",
    "plt.show()\n",
    "\n"
   ]
  },
  {
   "cell_type": "code",
   "execution_count": null,
   "metadata": {},
   "outputs": [],
   "source": []
  },
  {
   "cell_type": "code",
   "execution_count": null,
   "metadata": {},
   "outputs": [],
   "source": []
  }
 ],
 "metadata": {
  "kernelspec": {
   "display_name": "Python 3 (ipykernel)",
   "language": "python",
   "name": "python3"
  },
  "language_info": {
   "codemirror_mode": {
    "name": "ipython",
    "version": 3
   },
   "file_extension": ".py",
   "mimetype": "text/x-python",
   "name": "python",
   "nbconvert_exporter": "python",
   "pygments_lexer": "ipython3",
   "version": "3.7.7"
  }
 },
 "nbformat": 4,
 "nbformat_minor": 4
}
