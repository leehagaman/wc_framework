{
 "cells": [
  {
   "cell_type": "code",
   "execution_count": 1,
   "id": "143ee657-7b30-4f41-bb81-01ab73ad9cb4",
   "metadata": {},
   "outputs": [],
   "source": [
    "import numpy as np\n",
    "import os\n"
   ]
  },
  {
   "cell_type": "code",
   "execution_count": 2,
   "id": "afd7e4c5-f940-4854-90fe-e6b00307e106",
   "metadata": {},
   "outputs": [],
   "source": [
    "# can't use three_point_seven_env for this, have to use the default conda environment\n",
    "# (maybe trying to install pyroot on that environment messed things up?)\n"
   ]
  },
  {
   "cell_type": "code",
   "execution_count": 3,
   "id": "f095a5f0-eff0-4b0e-94e4-2e9cc61dd401",
   "metadata": {},
   "outputs": [],
   "source": [
    "s = \"root -l -b -q 'calculate_num.C(0.2, 0.54,     1000, 6.516748e+20, 0, 0, \\\"gh_averaged_bnb_5GeV_flux.root\\\", \\\"gh_averaged_nue_total\\\")' >> temp.txt\"\"\"\n",
    "\n",
    "# clear file\n",
    "with open(\"temp.txt\",'w') as file:\n",
    "    pass\n",
    "\n",
    "# print to file\n",
    "os.system(s)\n",
    "\n",
    "# read file\n",
    "with open(\"temp.txt\",'r') as file:\n",
    "    for l in file.readlines():\n",
    "        if \"Final constant\" in l:\n",
    "            c = float(l.split(\":\")[1].strip())\n"
   ]
  },
  {
   "cell_type": "code",
   "execution_count": 4,
   "id": "5663a676-ed7c-4b47-a950-5fd60b5a156c",
   "metadata": {},
   "outputs": [
    {
     "data": {
      "text/plain": [
       "793.581"
      ]
     },
     "execution_count": 4,
     "metadata": {},
     "output_type": "execute_result"
    }
   ],
   "source": [
    "c"
   ]
  },
  {
   "cell_type": "code",
   "execution_count": 5,
   "id": "3848f75d-aa98-42bd-887b-330a0e87ce59",
   "metadata": {},
   "outputs": [
    {
     "data": {
      "text/plain": [
       "6.36807e+20"
      ]
     },
     "execution_count": 5,
     "metadata": {},
     "output_type": "execute_result"
    }
   ],
   "source": [
    "1.4224e+20 + 2.5413e+20 + 2.40437e+20"
   ]
  },
  {
   "cell_type": "code",
   "execution_count": 6,
   "id": "4018f7a6-9203-467d-b549-8938ac8e7446",
   "metadata": {},
   "outputs": [
    {
     "name": "stdout",
     "output_type": "stream",
     "text": [
      "\n",
      "1   20     nueCC.inside.Enu.le.540.gt.200             775.475         0.022      0.011\n",
      "2   20     nueCC.inside.Enu.le.705.gt.540             333.113         0.022      0.011\n",
      "3   20     nueCC.inside.Enu.le.805.gt.705             175.581         0.022      0.011\n",
      "4   20     nueCC.inside.Enu.le.920.gt.805             176.165         0.022      0.011\n",
      "5   20     nueCC.inside.Enu.le.1050.gt.920            178.139         0.022      0.011\n",
      "6   20     nueCC.inside.Enu.le.1200.gt.1050           188.131         0.022      0.011\n",
      "7   20     nueCC.inside.Enu.le.1375.gt.1200           184.694         0.022      0.011\n",
      "8   20     nueCC.inside.Enu.le.1570.gt.1375           165.395         0.022      0.011\n",
      "9   20     nueCC.inside.Enu.le.2050.gt.1570           277.146         0.022      0.011\n",
      "10  20     nueCC.inside.Enu.le.4000.gt.2050           288.621         0.022      0.011\n",
      "\n",
      "11  20     numuCC0pi0.inside.Enu.le.540.gt.200        145516.0        0.022      0.011\n",
      "12  20     numuCC0pi0.inside.Enu.le.705.gt.540        79923.5         0.022      0.011\n",
      "13  20     numuCC0pi0.inside.Enu.le.805.gt.705        46559.1         0.022      0.011\n",
      "14  20     numuCC0pi0.inside.Enu.le.920.gt.805        49687.1         0.022      0.011\n",
      "15  20     numuCC0pi0.inside.Enu.le.1050.gt.920       49793.8         0.022      0.011\n",
      "16  20     numuCC0pi0.inside.Enu.le.1200.gt.1050      48066.7         0.022      0.011\n",
      "17  20     numuCC0pi0.inside.Enu.le.1375.gt.1200      42842.8         0.022      0.011\n",
      "18  20     numuCC0pi0.inside.Enu.le.1570.gt.1375      31208.0         0.022      0.011\n",
      "19  20     numuCC0pi0.inside.Enu.le.2050.gt.1570      27723.5         0.022      0.011\n",
      "20  20     numuCC0pi0.inside.Enu.le.4000.gt.2050      8561.37         0.022      0.011\n",
      "\n",
      "21  20     numuCCNpi0.inside.Ppi0.le.130.gt.0         65383.2         0.022      0.011\n",
      "22  20     numuCCNpi0.inside.Ppi0.le.180.gt.130       25147.4         0.022      0.011\n",
      "23  20     numuCCNpi0.inside.Ppi0.le.240.gt.180       30176.9         0.022      0.011\n",
      "24  20     numuCCNpi0.inside.Ppi0.le.300.gt.240       30176.9         0.022      0.011\n",
      "25  20     numuCCNpi0.inside.Ppi0.le.360.gt.300       30176.9         0.022      0.011\n",
      "26  20     numuCCNpi0.inside.Ppi0.le.420.gt.360       30176.9         0.022      0.011\n",
      "27  20     numuCCNpi0.inside.Ppi0.le.500.gt.420       40235.8         0.022      0.011\n",
      "28  20     numuCCNpi0.inside.Ppi0.le.1200.gt.500      352063.0        0.022      0.011\n",
      "\n",
      "29  20     NCpi0BDT.inside.Ppi0.le.130.gt.0           68113.9487      0.022      0.011\n",
      "30  20     NCpi0BDT.inside.Ppi0.le.180.gt.130         26197.6881      0.022      0.011\n",
      "31  20     NCpi0BDT.inside.Ppi0.le.240.gt.180         31437.2449      0.022      0.011\n",
      "32  20     NCpi0BDT.inside.Ppi0.le.300.gt.240         31437.2449      0.022      0.011\n",
      "33  20     NCpi0BDT.inside.Ppi0.le.360.gt.300         31437.2449      0.022      0.011\n",
      "34  20     NCpi0BDT.inside.Ppi0.le.420.gt.360         31437.2449      0.022      0.011\n",
      "35  20     NCpi0BDT.inside.Ppi0.le.500.gt.420         41916.2626      0.022      0.011\n",
      "36  20     NCpi0BDT.inside.Ppi0.le.1200.gt.500        366767.037      0.022      0.011\n",
      "\n",
      "-1   -1        End                                    -1              -1         -1\n",
      "#bin #cut_file #cut                                   #const          #pot_err   #target_err\n"
     ]
    }
   ],
   "source": [
    "bin_edges = (200, 540, 705, 805, 920, 1050, 1200, 1375, 1570, 2050, 4000)\n",
    "\n",
    "# true nue flux\n",
    "print(\"\")\n",
    "for bin_num in range(10):\n",
    "    s = f\"root -l -b -q 'calculate_num.C({bin_edges[bin_num] / 1000.}, {bin_edges[bin_num+1] / 1000.}, 1000, 6.36807e+20, 0, 0, \\\"gh_averaged_bnb_5GeV_flux.root\\\", \\\"gh_averaged_nue_total\\\")' >> temp.txt\"\n",
    "    with open(\"temp.txt\",'w') as file: # clear file\n",
    "        pass\n",
    "    os.system(s) # print to file\n",
    "    with open(\"temp.txt\",'r') as file: # read file\n",
    "        for l in file.readlines():\n",
    "            if \"Final constant\" in l:\n",
    "                c = float(l.split(\":\")[1].strip())\n",
    "    print(f\"{str(bin_num+1).ljust(2)}  20     nueCC.inside.Enu.le.{(str(bin_edges[bin_num+1])+'.gt.' + str(bin_edges[bin_num])).ljust(15)}        {str(c).ljust(15)} 0.022      0.011\")\n",
    "\n",
    "# true numu flux\n",
    "print(\"\")\n",
    "for bin_num in range(10):\n",
    "    s = f\"root -l -b -q 'calculate_num.C({bin_edges[bin_num] / 1000.}, {bin_edges[bin_num+1] / 1000.}, 1000, 6.36807e+20, 0, 0, \\\"gh_averaged_bnb_5GeV_flux.root\\\", \\\"gh_averaged_numu_total\\\")' >> temp.txt\"\n",
    "    with open(\"temp.txt\",'w') as file: # clear file\n",
    "        pass\n",
    "    os.system(s) # print to file\n",
    "    with open(\"temp.txt\",'r') as file: # read file\n",
    "        for l in file.readlines():\n",
    "            if \"Final constant\" in l:\n",
    "                c = float(l.split(\":\")[1].strip())\n",
    "    print(f\"{str(bin_num+1+10).ljust(2)}  20     numuCC0pi0.inside.Enu.le.{(str(bin_edges[bin_num+1])+'.gt.' + str(bin_edges[bin_num])).ljust(15)}   {str(c).ljust(15)} 0.022      0.011\")\n",
    "print(\"\")\n",
    "bin_edges = (0, 130, 180, 240, 300, 360, 420, 500, 1200)\n",
    "for bin_num in range(8):\n",
    "    s = f\"root -l -b -q 'calculate_num.C(0.275, 4, 1000, 6.36807e+20, {bin_edges[bin_num] / 1000.}, {bin_edges[bin_num+1] / 1000.}, \\\"gh_averaged_bnb_5GeV_flux.root\\\", \\\"gh_averaged_numu_total\\\")' >> temp.txt\"\n",
    "    #s = f\"root -l -b -q 'calculate_num.C({bin_edges[bin_num] / 1000.}, {bin_edges[bin_num+1] / 1000.}, 1000, 6.36807e+20, 0, 0, \\\"gh_averaged_bnb_5GeV_flux.root\\\", \\\"gh_averaged_numu_total\\\")' >> temp.txt\"\n",
    "    with open(\"temp.txt\",'w') as file: # clear file\n",
    "        pass\n",
    "    os.system(s) # print to file\n",
    "    with open(\"temp.txt\",'r') as file: # read file\n",
    "        for l in file.readlines():\n",
    "            if \"Final constant\" in l:\n",
    "                c = float(l.split(\":\")[1].strip())\n",
    "    print(f\"{str(bin_num+1+20).ljust(2)}  20     numuCCNpi0.inside.Ppi0.le.{(str(bin_edges[bin_num+1])+'.gt.' + str(bin_edges[bin_num])).ljust(14)}   {str(c).ljust(15)} 0.022      0.011\")\n",
    "\n",
    "# true NC flux\n",
    "bin_edges = (0, 130, 180, 240, 300, 360, 420, 500, 1200)\n",
    "print(\"\")\n",
    "for bin_num in range(8):\n",
    "    tot = 0\n",
    "    for t in [\"gh_averaged_nue_total\", \"gh_averaged_antinue_total\", \"gh_averaged_numu_total\", \"gh_averaged_antinumu_total\"]:\n",
    "        s = f\"root -l -b -q 'calculate_num.C(0.275, 4, 1000, 6.36807e+20, {bin_edges[bin_num] / 1000.}, {bin_edges[bin_num+1] / 1000.}, \\\"gh_averaged_bnb_5GeV_flux.root\\\", \\\"{t}\\\")' >> temp.txt\"\n",
    "        #s = f\"root -l -b -q 'calculate_num.C(0.275, 4, 1000, 6.36807e+20, 0, 0, \\\"gh_averaged_bnb_5GeV_flux.root\\\", \\\"{t}\\\")' >> temp.txt\"\n",
    "        with open(\"temp.txt\",'w') as file: # clear file\n",
    "            pass\n",
    "        os.system(s) # print to file\n",
    "        with open(\"temp.txt\",'r') as file: # read file\n",
    "            for l in file.readlines():\n",
    "                if \"Final constant\" in l:\n",
    "                    #print(\"adding\", l.split(\":\")[1].strip())\n",
    "                    tot += float(l.split(\":\")[1].strip())\n",
    "    \n",
    "    print(f\"{str(bin_num+1+28).ljust(2)}  20     NCpi0BDT.inside.Ppi0.le.{(str(bin_edges[bin_num+1])+'.gt.' + str(bin_edges[bin_num])).ljust(15)}    {str(round(tot, 4)).ljust(15)} 0.022      0.011\")\n",
    "print(\"\\n-1   -1        End                                    -1              -1         -1\")\n",
    "print(\"#bin #cut_file #cut                                   #const          #pot_err   #target_err\")\n"
   ]
  },
  {
   "cell_type": "code",
   "execution_count": 7,
   "id": "acbe71c1-9be2-4b3d-9783-564d566942ba",
   "metadata": {},
   "outputs": [
    {
     "name": "stdout",
     "output_type": "stream",
     "text": [
      "\n",
      "1   19     numuCC.inside.Enu.le.540.gt.200        145516.0        0.022      0.011\n",
      "2   19     numuCC.inside.Enu.le.705.gt.540        79923.5         0.022      0.011\n",
      "3   19     numuCC.inside.Enu.le.805.gt.705        46559.1         0.022      0.011\n",
      "4   19     numuCC.inside.Enu.le.920.gt.805        49687.1         0.022      0.011\n",
      "5   19     numuCC.inside.Enu.le.1050.gt.920       49793.8         0.022      0.011\n",
      "6   19     numuCC.inside.Enu.le.1200.gt.1050      48066.7         0.022      0.011\n",
      "7   19     numuCC.inside.Enu.le.1375.gt.1200      42842.8         0.022      0.011\n",
      "8   19     numuCC.inside.Enu.le.1570.gt.1375      31208.0         0.022      0.011\n",
      "9   19     numuCC.inside.Enu.le.2050.gt.1570      27723.5         0.022      0.011\n",
      "10  19     numuCC.inside.Enu.le.4000.gt.2050      8561.37         0.022      0.011\n",
      "\n",
      "11  19     nueCC.inside.Enu.le.540.gt.200             775.475         0.022      0.011\n",
      "12  19     nueCC.inside.Enu.le.705.gt.540             333.113         0.022      0.011\n",
      "13  19     nueCC.inside.Enu.le.805.gt.705             175.581         0.022      0.011\n",
      "14  19     nueCC.inside.Enu.le.920.gt.805             176.165         0.022      0.011\n",
      "15  19     nueCC.inside.Enu.le.1050.gt.920            178.139         0.022      0.011\n",
      "16  19     nueCC.inside.Enu.le.1200.gt.1050           188.131         0.022      0.011\n",
      "17  19     nueCC.inside.Enu.le.1375.gt.1200           184.694         0.022      0.011\n",
      "18  19     nueCC.inside.Enu.le.1570.gt.1375           165.395         0.022      0.011\n",
      "19  19     nueCC.inside.Enu.le.2050.gt.1570           277.146         0.022      0.011\n",
      "20  19     nueCC.inside.Enu.le.4000.gt.2050           288.621         0.022      0.011\n",
      "\n",
      "-1   -1        End                                    -1              -1         -1\n",
      "#bin #cut_file #cut                                   #const          #pot_err   #target_err\n"
     ]
    }
   ],
   "source": [
    "bin_edges = (200, 540, 705, 805, 920, 1050, 1200, 1375, 1570, 2050, 4000)\n",
    "\n",
    "# true numu flux\n",
    "print(\"\")\n",
    "for bin_num in range(10):\n",
    "    s = (f\"root -l -b -q 'calculate_num.C({bin_edges[bin_num] / 1000.}, {bin_edges[bin_num+1] / 1000.}, 1000, 6.36807e+20, 0, 0,\"\n",
    "        \" \\\"gh_averaged_bnb_5GeV_flux.root\\\", \\\"gh_averaged_numu_total\\\")' >> temp.txt\")\n",
    "    with open(\"temp.txt\",'w') as file: # clear file\n",
    "        pass\n",
    "    os.system(s) # print to file\n",
    "    with open(\"temp.txt\",'r') as file: # read file\n",
    "        for l in file.readlines():\n",
    "            if \"Final constant\" in l:\n",
    "                c = float(l.split(\":\")[1].strip())\n",
    "    print(f\"{str(bin_num+1).ljust(2)}  19     numuCC.inside.Enu.le.{(str(bin_edges[bin_num+1])+'.gt.' + str(bin_edges[bin_num])).ljust(15)}\"\n",
    "          f\"   {str(c).ljust(15)} 0.022      0.011\")\n",
    "\n",
    "# true nue flux\n",
    "print(\"\")\n",
    "for bin_num in range(10):\n",
    "    s = (f\"root -l -b -q 'calculate_num.C({bin_edges[bin_num] / 1000.}, {bin_edges[bin_num+1] / 1000.}, 1000, 6.36807e+20, 0, 0,\"\n",
    "        \" \\\"gh_averaged_bnb_5GeV_flux.root\\\", \\\"gh_averaged_nue_total\\\")' >> temp.txt\")\n",
    "    with open(\"temp.txt\",'w') as file: # clear file\n",
    "        pass\n",
    "    os.system(s) # print to file\n",
    "    with open(\"temp.txt\",'r') as file: # read file\n",
    "        for l in file.readlines():\n",
    "            if \"Final constant\" in l:\n",
    "                c = float(l.split(\":\")[1].strip())\n",
    "    print(f\"{str(bin_num+1+10).ljust(2)}  19     nueCC.inside.Enu.le.{(str(bin_edges[bin_num+1])+'.gt.' + str(bin_edges[bin_num])).ljust(15)}\"\n",
    "          f\"        {str(c).ljust(15)} 0.022      0.011\")\n",
    "\n",
    "print(\"\\n-1   -1        End                                    -1              -1         -1\")\n",
    "print(\"#bin #cut_file #cut                                   #const          #pot_err   #target_err\")\n"
   ]
  },
  {
   "cell_type": "code",
   "execution_count": null,
   "id": "8ac2cb5d-7248-4a5e-8071-6a8419bdbb9a",
   "metadata": {},
   "outputs": [],
   "source": []
  }
 ],
 "metadata": {
  "kernelspec": {
   "display_name": "Python 3 (ipykernel)",
   "language": "python",
   "name": "python3"
  },
  "language_info": {
   "codemirror_mode": {
    "name": "ipython",
    "version": 3
   },
   "file_extension": ".py",
   "mimetype": "text/x-python",
   "name": "python",
   "nbconvert_exporter": "python",
   "pygments_lexer": "ipython3",
   "version": "3.9.12"
  }
 },
 "nbformat": 4,
 "nbformat_minor": 5
}
